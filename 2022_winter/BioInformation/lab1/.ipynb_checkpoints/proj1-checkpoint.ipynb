{
 "cells": [
  {
   "cell_type": "code",
   "execution_count": 1,
   "id": "c17276ea-6ae4-41b3-a5eb-820b5ff629ba",
   "metadata": {},
   "outputs": [],
   "source": [
    "import numpy as np\n",
    "\n",
    "class GeneStruct:\n",
    "    def __init__(self, name, description):\n",
    "        self.name = name\n",
    "        self.description = description\n",
    "        self.seq = \"\"\n",
    "        \n",
    "\n",
    "class FastaGeneReader:\n",
    "    def __init__(self):\n",
    "        self.gene_list = None\n",
    "    \n",
    "    def read_from_file(self, file):\n",
    "        self.gene_list = []\n",
    "        \n",
    "        with open(file) as fin:\n",
    "            for line in fin.readlines():\n",
    "                if line[0] == '>':\n",
    "                    blank_idx = line.find(' ')\n",
    "                    \n",
    "                    gene = GeneStruct(\n",
    "                        line[1:blank_idx],\n",
    "                        line[blank_idx+1:].strip()\n",
    "                    )\n",
    "                    self.gene_list.append(gene)\n",
    "                else:\n",
    "                    self.gene_list[-1].seq += line.strip()"
   ]
  },
  {
   "cell_type": "code",
   "execution_count": 2,
   "id": "fbc59f40-3494-482c-80d4-885fb82df1a0",
   "metadata": {},
   "outputs": [],
   "source": [
    "class NwAlgo:\n",
    "    def __init__(self, seq1, seq2, match=2, mismatch=-1, gap=-2):\n",
    "        self.seq1 = seq1\n",
    "        self.seq2 = seq2\n",
    "        self.match = match\n",
    "        self.mismatch = mismatch\n",
    "        self.gap = gap\n",
    "        \n",
    "        self.l1 = len(seq1)\n",
    "        self.l2 = len(seq2)\n",
    "        \n",
    "        self.mat_score = np.zeros([self.l1+1, self.l2+1])\n",
    "        self.mat_arrow = np.zeros([self.l1+1, self.l2+1], dtype=int)\n",
    "        \n",
    "        self.best_path_list = []\n",
    "        \n",
    "        self.stack = []\n",
    "\n",
    "        # self.mat_best_path = ([None] * self.l2) * self.l1\n",
    "        \n",
    "        \n",
    "    def sub_problem(self, i, j):\n",
    "        if i == 0 and j == 0:\n",
    "            return\n",
    "        \n",
    "        seq1 = self.seq1\n",
    "        seq2 = self.seq2\n",
    "\n",
    "        if i > 0 and j >0:\n",
    "            score2_base = self.mat_score[i-1][j-1]\n",
    "\n",
    "            if seq1[i-1] == seq2[j-1]:\n",
    "                score2 = self.match + score2_base\n",
    "            else:\n",
    "                score2 = self.mismatch + score2_base\n",
    "        else:\n",
    "            score2 = -np.inf\n",
    "\n",
    "        if i > 0:\n",
    "            score3 = self.mat_score[i-1][j] + self.gap\n",
    "        else:\n",
    "            score3 = -np.inf\n",
    "\n",
    "        if j > 0:\n",
    "            score4 = self.mat_score[i][j-1] + self.gap\n",
    "        else:\n",
    "            score4 = -np.inf\n",
    "\n",
    "        score = max(score2, score3, score4)\n",
    "        self.mat_score[i][j] = score\n",
    "        if score2 == score:\n",
    "            self.mat_arrow[i][j] += 1\n",
    "        if score3 == score:\n",
    "            self.mat_arrow[i][j] += 2\n",
    "        if score4 == score:\n",
    "            self.mat_arrow[i][j] += 4\n",
    "     \n",
    "    \n",
    "    def best_path_step(self, path_now, i, j):\n",
    "        # print(i, j)\n",
    "        \n",
    "        if i==0 and j==0:\n",
    "            # print(\"num_sols:\", len(self.best_path_list))\n",
    "            # print(\"num_stack:\", len(self.stack))\n",
    "            self.best_path_list.append(path_now)\n",
    "        \n",
    "        if self.mat_arrow[i][j] & 1:\n",
    "            self.stack.append((path_now + [(i-1, j-1)], i-1, j-1))\n",
    "            # self.best_path_step(path_now + [(i-1, j-1)], i-1, j-1)\n",
    "        \n",
    "        if self.mat_arrow[i][j] & 2:\n",
    "            self.stack.append((path_now + [(i-1, j)], i-1, j))\n",
    "            # self.best_path_step(path_now + [(i-1, j)], i-1, j)\n",
    "            \n",
    "        if self.mat_arrow[i][j] & 4:\n",
    "            self.stack.append((path_now + [(i, j-1)], i, j-1))\n",
    "            # self.best_path_step(path_now + [(i, j-1)], i, j-1)\n",
    "            \n",
    "            \n",
    "    def find_best_paths(self, maximum_solutions=10):\n",
    "        self.stack = []\n",
    "        self.stack.append(([(self.l1, self.l2)], self.l1, self.l2))\n",
    "        while(len(self.stack) != 0):\n",
    "            if len(self.best_path_list) >= maximum_solutions:\n",
    "                return [self.decode_path(path) for path in self.best_path_list]\n",
    "            \n",
    "            path_now, i, j = self.stack.pop(-1)\n",
    "            self.best_path_step(path_now, i, j) \n",
    "            \n",
    "    def solve(self):\n",
    "        for i in range(self.l1+1):\n",
    "            for j in range(self.l2+1):\n",
    "                self.sub_problem(i, j)\n",
    "\n",
    "        # self.best_path_step([(self.l1, self.l2)], self.l1, self.l2)\n",
    "        \n",
    "        \n",
    "        # best_alignments = [self.decode_path(path) for path in self.best_path_list]\n",
    "        \n",
    "        \n",
    "        return self.mat_score[self.l1-1][self.l2-1]#, best_alignments\n",
    "    \n",
    "            \n",
    "    def decode_path(self, path, size_per_line=80):\n",
    "        last_point = None\n",
    "        \n",
    "        seq1 = []\n",
    "        seq2 = []\n",
    "        \n",
    "        for point in path[::-1]:\n",
    "            if last_point is not None:\n",
    "                if last_point[0] == point[0]:\n",
    "                    seq1.append('-')\n",
    "                else:\n",
    "                    seq1.append(self.seq1[last_point[0]])\n",
    "                    \n",
    "                if last_point[1] == point[1]:\n",
    "                    seq2.append('-')\n",
    "                else:\n",
    "                    seq2.append(self.seq2[last_point[1]])\n",
    "                \n",
    "            last_point = point\n",
    "            \n",
    "            \n",
    "        output_str = []\n",
    "        for k in range(0, len(seq1), size_per_line):\n",
    "            output_str.append(''.join(seq1[k: k+size_per_line])+'\\n')\n",
    "            output_str.append('|'*len(seq1[k: k+size_per_line]) + '\\n')\n",
    "            output_str.append(''.join(seq2[k: k+size_per_line])+'\\n')\n",
    "            output_str.append('\\n')\n",
    "            \n",
    "        # return ''.join(seq1), ''.join(seq2)\n",
    "        \n",
    "        return ''.join(output_str)\n",
    "    \n",
    "    \n",
    "    def save_output(self, filename):\n",
    "        np.savetxt(filename, self.mat_score)\n",
    "        \n",
    "        with open(filename, 'a') as f:\n",
    "            f.write('\\n')\n",
    "            # f.write(np.array_str(solver.mat_score)+'\\n')\n",
    "            for i, path in enumerate(self.best_path_list):\n",
    "                f.write(\"path_\" + str(i) + '>' + '\\n' + self.decode_path(path))\n",
    "            f.write(\"best_score:\" + str(self.mat_score[self.l1][self.l2]) + '\\n')"
   ]
  },
  {
   "cell_type": "markdown",
   "id": "f6d4c496-5765-4f4c-b525-f13e6fc711d3",
   "metadata": {},
   "source": [
    "# homogogous_genes"
   ]
  },
  {
   "cell_type": "code",
   "execution_count": 14,
   "id": "ea4d8aea-4f9f-4cdf-86fe-5dd60f6b759f",
   "metadata": {},
   "outputs": [],
   "source": [
    "reader1 = FastaGeneReader()\n",
    "reader1.read_from_file(\"input/homo1.fa\")\n",
    "\n",
    "reader2 = FastaGeneReader()\n",
    "reader2.read_from_file(\"input/homo2.fa\")"
   ]
  },
  {
   "cell_type": "markdown",
   "id": "e970b344-9a70-446f-accd-57dbbbf96abc",
   "metadata": {},
   "source": [
    "# match=2, mismatch=-1, gap=0\n",
    "## find 5 optimal paths"
   ]
  },
  {
   "cell_type": "code",
   "execution_count": 16,
   "id": "441705b3-fbca-436b-ab6f-874f86def586",
   "metadata": {},
   "outputs": [],
   "source": [
    "solver = NwAlgo(reader1.gene_list[0].seq, reader2.gene_list[0].seq, 2, -1, 0)\n",
    "score = solver.solve()\n",
    "result = solver.find_best_paths(5)\n",
    "solver.save_output(\"output/homo_result1.txt\")"
   ]
  },
  {
   "cell_type": "markdown",
   "id": "8372ac88-a970-4970-ac1f-a1e03a2373d6",
   "metadata": {},
   "source": [
    "# match=2, mismatch=-1, gap=-2.5\n",
    "## find 10 optimal paths"
   ]
  },
  {
   "cell_type": "code",
   "execution_count": 5,
   "id": "63c4a51a-9c79-4afa-8f81-aab89dceb69d",
   "metadata": {},
   "outputs": [],
   "source": [
    "solver = NwAlgo(reader1.gene_list[0].seq, reader2.gene_list[0].seq, 2, -1, -2.5)\n",
    "score = solver.solve()\n",
    "result = solver.find_best_paths(10)\n",
    "solver.save_output(\"output/homo_result2.txt\")"
   ]
  },
  {
   "cell_type": "markdown",
   "id": "fa907b73-eefa-4d26-81d5-642359f95ad5",
   "metadata": {},
   "source": [
    "# human and hamster insulin"
   ]
  },
  {
   "cell_type": "code",
   "execution_count": 17,
   "id": "0be1c1be-f64c-43bc-9522-b614283075e0",
   "metadata": {},
   "outputs": [],
   "source": [
    "reader1 = FastaGeneReader()\n",
    "reader1.read_from_file(\"input/human_insulin.fa\")\n",
    "\n",
    "reader2 = FastaGeneReader()\n",
    "reader2.read_from_file(\"input/hamster_insulin.fa\")"
   ]
  },
  {
   "cell_type": "markdown",
   "id": "b2b2a466-c0bf-40ae-a749-a63310f16243",
   "metadata": {},
   "source": [
    "# match=2, mismatch=-1, gap=0\n",
    "## find 5 optimal paths"
   ]
  },
  {
   "cell_type": "code",
   "execution_count": 18,
   "id": "66cc0a5f-4ff8-4dcb-9f91-dbc803bf25ec",
   "metadata": {},
   "outputs": [],
   "source": [
    "solver = NwAlgo(reader1.gene_list[0].seq, reader2.gene_list[0].seq, 2, -1, 0)\n",
    "score = solver.solve()\n",
    "result = solver.find_best_paths(5)\n",
    "solver.save_output(\"output/insulin_result1.txt\")"
   ]
  },
  {
   "cell_type": "markdown",
   "id": "d2083525-858c-4f1c-a6a3-9df4fd8ec779",
   "metadata": {
    "tags": []
   },
   "source": [
    "# match=2, mismatch=-1, gap=-2.5\n",
    "## find 10 optimal paths"
   ]
  },
  {
   "cell_type": "code",
   "execution_count": 19,
   "id": "4932f949-da51-4ce6-a15a-df8b9849d518",
   "metadata": {},
   "outputs": [],
   "source": [
    "solver = NwAlgo(reader1.gene_list[0].seq, reader2.gene_list[0].seq, 2, -1, -2.5)\n",
    "score = solver.solve()\n",
    "result = solver.find_best_paths(10)\n",
    "solver.save_output(\"output/insulin_result2.txt\")"
   ]
  },
  {
   "cell_type": "code",
   "execution_count": null,
   "id": "e14b9177-d331-4780-a5b0-3885b382079d",
   "metadata": {},
   "outputs": [],
   "source": []
  }
 ],
 "metadata": {
  "kernelspec": {
   "display_name": "Python 3 (ipykernel)",
   "language": "python",
   "name": "python3"
  },
  "language_info": {
   "codemirror_mode": {
    "name": "ipython",
    "version": 3
   },
   "file_extension": ".py",
   "mimetype": "text/x-python",
   "name": "python",
   "nbconvert_exporter": "python",
   "pygments_lexer": "ipython3",
   "version": "3.9.12"
  }
 },
 "nbformat": 4,
 "nbformat_minor": 5
}
