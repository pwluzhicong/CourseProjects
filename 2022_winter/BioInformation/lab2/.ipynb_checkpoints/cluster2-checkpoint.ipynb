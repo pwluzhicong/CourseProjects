{
 "cells": [
  {
   "cell_type": "code",
   "execution_count": 1,
   "id": "6ace52a4-80e1-4c21-82e2-e5f42edd68bc",
   "metadata": {},
   "outputs": [],
   "source": [
    "import numpy as np\n",
    "\n",
    "class GeneStruct:\n",
    "    def __init__(self, name, description, organism):\n",
    "        self.name = name\n",
    "        self.description = description\n",
    "        self.organism = organism\n",
    "        self.seq = \"\"\n",
    "        \n",
    "\n",
    "class FastaGeneReader:\n",
    "    def __init__(self):\n",
    "        self.gene_list = None\n",
    "        self.file_name = None\n",
    "    \n",
    "    def read_from_file(self, file):\n",
    "        self.file_name = file\n",
    "        self.gene_list = []\n",
    "        \n",
    "        with open(file) as fin:\n",
    "            \n",
    "            for line in fin.readlines():\n",
    "                if line[0] == '>':\n",
    "                    blank_idx = line.find(' ')\n",
    "                    \n",
    "                    org_idx = line.find('[')\n",
    "                    \n",
    "                    gene = GeneStruct(\n",
    "                        line[1:blank_idx],\n",
    "                        line[blank_idx+1:org_idx].strip(),\n",
    "                        line[org_idx:].strip(),\n",
    "                    )\n",
    "                    self.gene_list.append(gene)\n",
    "                else:\n",
    "                    self.gene_list[-1].seq += line.strip()"
   ]
  },
  {
   "cell_type": "code",
   "execution_count": null,
   "id": "5a33e850-5113-46c7-ad0c-29bc0479118b",
   "metadata": {},
   "outputs": [],
   "source": [
    "os.path.exist"
   ]
  },
  {
   "cell_type": "code",
   "execution_count": 2,
   "id": "f4cb8472-e28f-42f6-8527-8a4163786c80",
   "metadata": {},
   "outputs": [],
   "source": [
    "import os\n",
    "readers = []\n",
    "for filename in os.listdir(\"dataset\"):\n",
    "    if(filename[0]!='.'):\n",
    "        r = FastaGeneReader()\n",
    "        r.read_from_file(\"dataset/\"+filename)\n",
    "        readers.append(r)\n",
    "        \n",
    "organism_set_list = []\n",
    "\n",
    "for r in readers:\n",
    "    s = set()\n",
    "    for gene_struct in r.gene_list:\n",
    "        s.add(gene_struct.organism)\n",
    "        # s.add(gene_struct.organism.split(' ')[0][1:])\n",
    "    organism_set_list.append(s)\n",
    "    \n",
    "organism_count_dict = {}\n",
    "for organism_set in organism_set_list[1:]:\n",
    "    for organism in organism_set:\n",
    "        organism_count_dict[organism] = organism_count_dict.get(organism, 0) + 1\n",
    "        \n",
    "candidate_organisms = [k for k, v in organism_count_dict.items() if v>=8]"
   ]
  },
  {
   "cell_type": "code",
   "execution_count": 3,
   "id": "125ba11b-f9e5-425a-a0e6-1cb3dadeb4ff",
   "metadata": {},
   "outputs": [
    {
     "data": {
      "text/plain": [
       "25"
      ]
     },
     "execution_count": 3,
     "metadata": {},
     "output_type": "execute_result"
    }
   ],
   "source": [
    "len(candidate_organisms)"
   ]
  },
  {
   "cell_type": "code",
   "execution_count": 4,
   "id": "73f184a3-459c-4695-9e64-ab9f4035f509",
   "metadata": {},
   "outputs": [],
   "source": [
    "r_list = []\n",
    "for r in readers:\n",
    "    num = 0\n",
    "    c = candidate_organisms.copy()\n",
    "    for gene_struct in r.gene_list:\n",
    "        if gene_struct.organism in c:\n",
    "            num += 1\n",
    "            c.remove(gene_struct.organism)\n",
    "    r_list.append((num, r))\n",
    "    \n",
    "readers = [b for a,b in sorted(r_list, key=lambda x:x[0])[-8:]]"
   ]
  },
  {
   "cell_type": "code",
   "execution_count": 103,
   "id": "ac442167-facc-47da-8a0f-998ac90c51ac",
   "metadata": {},
   "outputs": [
    {
     "data": {
      "text/plain": [
       "[<__main__.FastaGeneReader at 0x7fa5a004edd0>,\n",
       " <__main__.FastaGeneReader at 0x7fa5a004e450>,\n",
       " <__main__.FastaGeneReader at 0x7fa5f101ef10>,\n",
       " <__main__.FastaGeneReader at 0x7fa5f101eed0>,\n",
       " <__main__.FastaGeneReader at 0x7fa5f102f5d0>,\n",
       " <__main__.FastaGeneReader at 0x7fa5f1029990>,\n",
       " <__main__.FastaGeneReader at 0x7fa5f101ef50>,\n",
       " <__main__.FastaGeneReader at 0x7fa5a004e8d0>]"
      ]
     },
     "execution_count": 103,
     "metadata": {},
     "output_type": "execute_result"
    }
   ],
   "source": [
    "readers"
   ]
  },
  {
   "cell_type": "code",
   "execution_count": 5,
   "id": "bb7b869e-d525-4ced-9aa5-bfc02590dd11",
   "metadata": {},
   "outputs": [
    {
     "data": {
      "text/plain": [
       "'AKI72283.1'"
      ]
     },
     "execution_count": 5,
     "metadata": {},
     "output_type": "execute_result"
    }
   ],
   "source": [
    "readers[4].gene_list[1].name"
   ]
  },
  {
   "cell_type": "code",
   "execution_count": 8,
   "id": "64dea4d4-a3bb-4043-9cdb-ed928bc4fdd8",
   "metadata": {},
   "outputs": [
    {
     "data": {
      "text/plain": [
       "['[Chlorocebus sabaeus]',\n",
       " '[Trachypithecus francoisi]',\n",
       " '[Theropithecus gelada]',\n",
       " '[Macaca nemestrina]',\n",
       " '[Macaca fascicularis]',\n",
       " '[Colobus angolensis palliatus]',\n",
       " '[Callithrix jacchus]',\n",
       " '[Papio anubis]',\n",
       " '[Homo sapiens]',\n",
       " '[Saimiri boliviensis boliviensis]']"
      ]
     },
     "execution_count": 8,
     "metadata": {},
     "output_type": "execute_result"
    }
   ],
   "source": [
    "organism_set_list = []\n",
    "\n",
    "for r in readers:\n",
    "    s = set()\n",
    "    for gene_struct in r.gene_list:\n",
    "        s.add(gene_struct.organism)\n",
    "        # s.add(gene_struct.organism.split(' ')[0][1:])\n",
    "    organism_set_list.append(s)\n",
    "    \n",
    "organism_count_dict = {}\n",
    "for organism_set in organism_set_list[1:]:\n",
    "    for organism in organism_set:\n",
    "        organism_count_dict[organism] = organism_count_dict.get(organism, 0) + 1\n",
    "        \n",
    "candidate_organisms = [k for k, v in organism_count_dict.items() if v>=7]\n",
    "candidate_organisms"
   ]
  },
  {
   "cell_type": "code",
   "execution_count": 17,
   "id": "4dffae16-11cc-41d8-8a63-6ec65c3a7ca2",
   "metadata": {},
   "outputs": [],
   "source": [
    "organisms = [\n",
    " '[Chlorocebus sabaeus]',\n",
    " '[Trachypithecus francoisi]',\n",
    " # '[Theropithecus gelada]',\n",
    " '[Macaca nemestrina]',\n",
    " '[Macaca fascicularis]',\n",
    " '[Colobus angolensis palliatus]',\n",
    " '[Callithrix jacchus]',\n",
    " '[Papio anubis]',\n",
    " '[Homo sapiens]',\n",
    " # '[Saimiri boliviensis boliviensis]'\n",
    "]\n",
    "len(readers)\n",
    "\n",
    "d = {}\n",
    "\n",
    "for r in readers:\n",
    "    d[r.file_name] = {}\n",
    "    for gene_struct in r.gene_list: \n",
    "        if gene_struct.organism in organisms:\n",
    "            d[r.file_name][gene_struct.organism] = gene_struct"
   ]
  },
  {
   "cell_type": "code",
   "execution_count": 27,
   "id": "2e52b1c4-c0fb-4151-aeae-e527d4adb1e7",
   "metadata": {},
   "outputs": [
    {
     "data": {
      "text/plain": [
       "[8, 8, 8, 8, 8, 8, 8, 8]"
      ]
     },
     "execution_count": 27,
     "metadata": {},
     "output_type": "execute_result"
    }
   ],
   "source": [
    "[len(v) for k,v in d.items()]"
   ]
  },
  {
   "cell_type": "code",
   "execution_count": 31,
   "id": "cf8b4c86-1fab-40ce-91be-a246983a9a51",
   "metadata": {},
   "outputs": [
    {
     "data": {
      "text/plain": [
       "['dataset/BAA04809.1.txt',\n",
       " 'dataset/AAA52484.1.txt',\n",
       " 'dataset/AAK26441.1.txt',\n",
       " 'dataset/NP_001027466.1.txt',\n",
       " 'dataset/KAI4083901.1.txt',\n",
       " 'dataset/AAB60937.1.txt',\n",
       " 'dataset/AAN17825.1.txt',\n",
       " 'dataset/KAI4030570.1.txt']"
      ]
     },
     "execution_count": 31,
     "metadata": {},
     "output_type": "execute_result"
    }
   ],
   "source": [
    "[k for k,v in d.items()]"
   ]
  },
  {
   "cell_type": "code",
   "execution_count": 64,
   "id": "5770d02b-3a64-46f3-9228-2e0faa0c773a",
   "metadata": {},
   "outputs": [
    {
     "data": {
      "text/plain": [
       "['[Chlorocebus sabaeus]',\n",
       " '[Trachypithecus francoisi]',\n",
       " '[Macaca nemestrina]',\n",
       " '[Macaca fascicularis]',\n",
       " '[Colobus angolensis palliatus]',\n",
       " '[Callithrix jacchus]',\n",
       " '[Papio anubis]',\n",
       " '[Homo sapiens]']"
      ]
     },
     "execution_count": 64,
     "metadata": {},
     "output_type": "execute_result"
    }
   ],
   "source": [
    "organisms"
   ]
  },
  {
   "cell_type": "code",
   "execution_count": 30,
   "id": "a1400174-e633-45b3-972e-dd7fae83147a",
   "metadata": {},
   "outputs": [],
   "source": [
    "import Bio\n",
    "import Bio.AlignIO"
   ]
  },
  {
   "cell_type": "code",
   "execution_count": 83,
   "id": "57ad354b-5752-41d1-9759-2e3559198c42",
   "metadata": {},
   "outputs": [],
   "source": [
    "from Bio import SeqIO\n",
    "result_record_list = []\n",
    "\n",
    "import re\n",
    "\n",
    "def parse_organism(r):\n",
    "    import re\n",
    "    return re.search(r\"\\[.*\\]\", r.description).group(0)\n",
    "\n",
    "for i, (file_name, v_list) in enumerate(d.items()):\n",
    "    local_organisms = organisms.copy()\n",
    "    records = list(SeqIO.parse(file_name, \"fasta\"))\n",
    "    for r in records:\n",
    "        org_name = re.search(r\"\\[.*\\]\", r.description).group(0)\n",
    "        if org_name in local_organisms:\n",
    "            local_organisms.remove(org_name)\n",
    "            r.annotations[\"group\"] = str(i)\n",
    "            result_record_list.append(r)\n",
    "    \n",
    "from Bio import SeqIO\n",
    "with open(\"64_samples.fasta\", \"w\") as output_handle:\n",
    "    SeqIO.write(result_record_list, output_handle, \"fasta\")\n",
    "    "
   ]
  },
  {
   "cell_type": "code",
   "execution_count": 140,
   "id": "6c4f4dfe-dc6c-4ae9-9f5d-b1fd4e662c7b",
   "metadata": {},
   "outputs": [],
   "source": [
    "from Bio import SeqIO\n",
    "result_record_list = []\n",
    "\n",
    "import re\n",
    "\n",
    "for i, (file_name, v_list) in enumerate(d.items()):\n",
    "    local_record_list = []\n",
    "    local_organisms = organisms.copy()\n",
    "    records = list(SeqIO.parse(file_name, \"fasta\"))\n",
    "    for r in records:\n",
    "        org_name = re.search(r\"\\[.*\\]\", r.description).group(0)\n",
    "        if org_name in local_organisms:\n",
    "            local_organisms.remove(org_name)\n",
    "            r.annotations[\"group\"] = str(i)\n",
    "            local_record_list.append(r)\n",
    "            result_record_list.append(r)\n",
    "    \n",
    "    from Bio import SeqIO\n",
    "    with open(\"%s.fasta\" % i, \"w\") as output_handle:\n",
    "        SeqIO.write(local_record_list, output_handle, \"fasta\")\n"
   ]
  },
  {
   "cell_type": "code",
   "execution_count": null,
   "id": "c470661d-5f4e-4729-b959-a3a29dda6ddb",
   "metadata": {},
   "outputs": [],
   "source": []
  },
  {
   "cell_type": "code",
   "execution_count": 99,
   "id": "751d2970-24f4-4680-bca7-584aa499b2b8",
   "metadata": {},
   "outputs": [],
   "source": [
    "protein_idx_dict = {}\n",
    "for i, r in enumerate(result_record_list):\n",
    "    protein_idx_dict[r.name] = i"
   ]
  },
  {
   "cell_type": "code",
   "execution_count": 91,
   "id": "e565e64c-34de-4d04-91b4-e8f8cff71230",
   "metadata": {},
   "outputs": [
    {
     "data": {
      "text/plain": [
       "NcbiblastpCommandline(cmd='blastp')"
      ]
     },
     "execution_count": 91,
     "metadata": {},
     "output_type": "execute_result"
    }
   ],
   "source": [
    "import Bio.Blast.Applications\n",
    "\n",
    "from Bio.Blast.Applications import NcbiblastpCommandline\n",
    "\n",
    "# dir(Bio.Blast.Applications.)\n",
    "# NcbiblastpCommandline()\n",
    "s = \"/usr/local/ncbi/blast/bin/blastp -subject 64_samples.fasta -query 64_samples.fasta -out test0.out -outfmt 10  -max_target_seqs 20\"\n",
    "import os\n",
    "os.system(s)\n",
    "\n"
   ]
  },
  {
   "cell_type": "code",
   "execution_count": 95,
   "id": "c4a4052e-a5a6-451b-8d36-c9c0a5ab5676",
   "metadata": {},
   "outputs": [],
   "source": [
    "import pandas as pd\n",
    "\n",
    "df = pd.read_csv(\"test0.out\", header=None)"
   ]
  },
  {
   "cell_type": "code",
   "execution_count": 112,
   "id": "980c2280-7c82-41d6-b8c8-f8949566b699",
   "metadata": {},
   "outputs": [],
   "source": [
    "similarity_matrix = np.zeros((len(result_record_list), len(result_record_list)))\n",
    "score_hit_matrix = np.zeros((len(result_record_list), len(result_record_list)))\n",
    "\n",
    "\n",
    "\n",
    "for i in range(df.shape[0]):\n",
    "    src = df.loc[i, 0]\n",
    "    dst = df.loc[i, 1]\n",
    "    similarity_matrix[protein_idx_dict[src], protein_idx_dict[dst]] = df.loc[i, 2]\n",
    "    score_hit_matrix[protein_idx_dict[src], protein_idx_dict[dst]] = df.loc[i, 11]\n",
    "    \n",
    "for i in range(len(result_record_list)):\n",
    "    score_hit_matrix[i, :] /=  score_hit_matrix[i, i]"
   ]
  },
  {
   "cell_type": "code",
   "execution_count": 121,
   "id": "2ee4c217-131b-41c0-a235-01f4c1de7b93",
   "metadata": {},
   "outputs": [],
   "source": [
    "import Bio.Cluster\n",
    "z = Bio.Cluster.kmedoids(1-score_hit_matrix, nclusters=8, npass=1, initialid=None)"
   ]
  },
  {
   "cell_type": "code",
   "execution_count": 138,
   "id": "5b281491-daf7-4e19-b6eb-9e54cab21916",
   "metadata": {},
   "outputs": [
    {
     "data": {
      "text/plain": [
       "array([ 1,  1,  1,  1,  1,  1,  1,  1, 11, 11, 11, 11, 11, 11, 11, 11, 23,\n",
       "       23, 23, 23, 23, 23, 23, 23, 27, 27, 27, 27, 27, 27, 27, 27, 33, 33,\n",
       "       33, 33, 33, 33, 33, 33, 45, 45, 45, 45, 45, 45, 45, 45, 49, 49, 49,\n",
       "       49, 49, 49, 49, 49, 59, 59, 59, 59, 59, 59, 59, 59], dtype=int32)"
      ]
     },
     "execution_count": 138,
     "metadata": {},
     "output_type": "execute_result"
    }
   ],
   "source": [
    "z[0]"
   ]
  },
  {
   "cell_type": "code",
   "execution_count": 131,
   "id": "7cc65d43-d249-4522-951b-351f355db1e2",
   "metadata": {},
   "outputs": [],
   "source": [
    "unique, counts = np.unique(z[0], return_counts=True)"
   ]
  },
  {
   "cell_type": "code",
   "execution_count": 137,
   "id": "8423570b-2773-428e-969a-949d067bca72",
   "metadata": {},
   "outputs": [
    {
     "data": {
      "text/plain": [
       "SeqRecord(seq=Seq('MIASQFLSALTLVLVIKESGAWSYNTSTEAMTYDEASAYCQQRYTHLVAIQNKE...YIL'), id='XP_011817652.1', name='XP_011817652.1', description='XP_011817652.1 PREDICTED: E-selectin [Colobus angolensis palliatus]', dbxrefs=[])"
      ]
     },
     "execution_count": 137,
     "metadata": {},
     "output_type": "execute_result"
    }
   ],
   "source": [
    "result_record_list[33]"
   ]
  },
  {
   "cell_type": "code",
   "execution_count": 133,
   "id": "6b6597c8-75cb-49a1-afd7-ffa384b56f4f",
   "metadata": {},
   "outputs": [
    {
     "data": {
      "text/plain": [
       "array([ 1, 11, 23, 27, 33, 45, 49, 59], dtype=int32)"
      ]
     },
     "execution_count": 133,
     "metadata": {},
     "output_type": "execute_result"
    }
   ],
   "source": [
    "unique"
   ]
  },
  {
   "cell_type": "code",
   "execution_count": 158,
   "id": "0eb162d0-60a5-462c-abb0-33caad003662",
   "metadata": {},
   "outputs": [],
   "source": []
  },
  {
   "cell_type": "code",
   "execution_count": 153,
   "id": "aa26fd5b-5d3d-409a-824d-a433096c353c",
   "metadata": {},
   "outputs": [
    {
     "data": {
      "text/plain": [
       "(64, 64)"
      ]
     },
     "execution_count": 153,
     "metadata": {},
     "output_type": "execute_result"
    }
   ],
   "source": [
    "raw_dm.shape"
   ]
  },
  {
   "cell_type": "code",
   "execution_count": 150,
   "id": "c9ebd6af-0c88-47f1-95f4-fea2f0c37da4",
   "metadata": {},
   "outputs": [
    {
     "ename": "NameError",
     "evalue": "name 'raw_dm' is not defined",
     "output_type": "error",
     "traceback": [
      "\u001b[0;31m---------------------------------------------------------------------------\u001b[0m",
      "\u001b[0;31mNameError\u001b[0m                                 Traceback (most recent call last)",
      "\u001b[0;32m/var/folders/tq/f3gy9wqs0sq6nv2l3tdlxcl40000gn/T/ipykernel_54807/2105701257.py\u001b[0m in \u001b[0;36m<module>\u001b[0;34m\u001b[0m\n\u001b[0;32m----> 1\u001b[0;31m \u001b[0mraw_dm\u001b[0m\u001b[0;34m.\u001b[0m\u001b[0mshape\u001b[0m\u001b[0;34m\u001b[0m\u001b[0;34m\u001b[0m\u001b[0m\n\u001b[0m",
      "\u001b[0;31mNameError\u001b[0m: name 'raw_dm' is not defined"
     ]
    }
   ],
   "source": [
    "raw_dm.shape()"
   ]
  },
  {
   "cell_type": "code",
   "execution_count": null,
   "id": "028a9184-63d8-4bb7-92ff-a32de705fbed",
   "metadata": {},
   "outputs": [],
   "source": []
  },
  {
   "cell_type": "code",
   "execution_count": 175,
   "id": "0cdb6c9a-d191-4460-97a0-e246d575846d",
   "metadata": {},
   "outputs": [],
   "source": [
    "def parse_organism(r):\n",
    "    import re\n",
    "    return re.search(r\"\\[.*\\]\", r.description).group(0)\n"
   ]
  },
  {
   "cell_type": "code",
   "execution_count": 168,
   "id": "61214df2-f07e-4f25-b71c-71db7d2e2dd9",
   "metadata": {},
   "outputs": [
    {
     "data": {
      "text/plain": [
       "['__add__',\n",
       " '__bool__',\n",
       " '__class__',\n",
       " '__contains__',\n",
       " '__delattr__',\n",
       " '__dict__',\n",
       " '__dir__',\n",
       " '__doc__',\n",
       " '__eq__',\n",
       " '__format__',\n",
       " '__ge__',\n",
       " '__getattribute__',\n",
       " '__getitem__',\n",
       " '__gt__',\n",
       " '__hash__',\n",
       " '__init__',\n",
       " '__init_subclass__',\n",
       " '__iter__',\n",
       " '__le__',\n",
       " '__le___',\n",
       " '__len__',\n",
       " '__lt__',\n",
       " '__module__',\n",
       " '__ne__',\n",
       " '__new__',\n",
       " '__radd__',\n",
       " '__reduce__',\n",
       " '__reduce_ex__',\n",
       " '__repr__',\n",
       " '__setattr__',\n",
       " '__sizeof__',\n",
       " '__str__',\n",
       " '__subclasshook__',\n",
       " '__weakref__',\n",
       " '_per_letter_annotations',\n",
       " '_seq',\n",
       " '_set_per_letter_annotations',\n",
       " '_set_seq',\n",
       " 'annotations',\n",
       " 'dbxrefs',\n",
       " 'description',\n",
       " 'features',\n",
       " 'format',\n",
       " 'id',\n",
       " 'letter_annotations',\n",
       " 'lower',\n",
       " 'name',\n",
       " 'reverse_complement',\n",
       " 'seq',\n",
       " 'translate',\n",
       " 'upper']"
      ]
     },
     "execution_count": 168,
     "metadata": {},
     "output_type": "execute_result"
    }
   ],
   "source": [
    "dir(result_record_list[0])"
   ]
  },
  {
   "cell_type": "code",
   "execution_count": 180,
   "id": "8d93493a-d0c1-45d7-b512-733026b678c7",
   "metadata": {},
   "outputs": [
    {
     "name": "stdout",
     "output_type": "stream",
     "text": [
      "                 _ XP_002745783.2[Callithrix jacchus]\n",
      "                |\n",
      "                | , XP_033070360.1[Trachypithecus francoisi]\n",
      "                |,|\n",
      "  ______________||| XP_011782535.1[Colobus angolensis pal...\n",
      " |              ||\n",
      " |              ||, XP_007997053.1[Chlorocebus sabaeus]\n",
      " |              |||\n",
      " |              ||, XP_031520350.1[Papio anubis]\n",
      " |              |||\n",
      " |               |, XP_011732068.1[Macaca nemestrina]\n",
      " |               ||\n",
      " |               || XP_045248434.1[Macaca fascicularis]\n",
      " |               |\n",
      " |               | AAN17825.1[Homo sapiens]\n",
      " |\n",
      " |               , XP_008980286.2[Callithrix jacchus]\n",
      " |               |\n",
      " |               |, XP_005547692.1[Macaca fascicularis]\n",
      " |               ||\n",
      " |               |, XP_003894225.2[Papio anubis]\n",
      "_|_______________,|\n",
      " |               || XP_007983204.2[Chlorocebus sabaeus]\n",
      " |               ||\n",
      " |               || XP_011735924.1[Macaca nemestrina]\n",
      " |               |\n",
      " |               , XP_033066369.1[Trachypithecus francoisi]\n",
      " |               |\n",
      " |               | XP_011792610.1[Colobus angolensis pal...\n",
      " |               |\n",
      " |               | AAB60937.1[Homo sapiens]\n",
      " |\n",
      " |            ____ XP_024653144.1[Macaca nemestrina]\n",
      " |           |\n",
      " |           | ___ XP_009006396.1[Callithrix jacchus]\n",
      " |___________||\n",
      " |           ||   , XP_033059832.1[Trachypithecus francoisi]\n",
      " |           ||  ,|\n",
      " |           ||  || XP_011818808.1[Colobus angolensis pal...\n",
      " |            | _|\n",
      " |            || |, XP_003909898.1[Papio anubis]\n",
      " |            || ||\n",
      " |            || || XP_007996463.1[Chlorocebus sabaeus]\n",
      " |             |  |\n",
      " |             |  | EHH56223.1[Macaca fascicularis]\n",
      " |             |\n",
      " |             |__ NP_001027466.1[Homo sapiens]\n",
      " |\n",
      " |                  _ XP_035138725.1[Callithrix jacchus]\n",
      " |                 |\n",
      " |                 | , XP_007984339.1[Chlorocebus sabaeus]\n",
      " |                 | |\n",
      " |                 | , XP_011732196.1[Macaca nemestrina]\n",
      " |   ______________| |\n",
      " |  |              | , XP_003893867.1[Papio anubis]\n",
      " |  |              |,|\n",
      " |  |              ||| XP_005548442.2[Macaca fascicularis]\n",
      " |  |              |||\n",
      " |  |              ||, XP_033067461.1[Trachypithecus francoisi]\n",
      " |  |               ||\n",
      " |  |               || XP_011782992.1[Colobus angolensis pal...\n",
      " |  |               |\n",
      " |__|               | KAI4030570.1[Homo sapiens]\n",
      " |  |\n",
      " |  |               _ XP_002760426.1[Callithrix jacchus]\n",
      " |  |              |\n",
      " |  |              | , XP_021786405.2[Papio anubis]\n",
      " |  |    __________| |\n",
      " |  |   |          | , XP_011758767.1[Macaca nemestrina]\n",
      " |  |   |          | |\n",
      " |  |   |          |_| XP_005539998.1[Macaca fascicularis]\n",
      " |  |   |            |\n",
      " |  |___|            , XP_033054535.1[Trachypithecus francoisi]\n",
      " |      |            |\n",
      " |      |            , XP_007987760.2[Chlorocebus sabaeus]\n",
      " |      |            |\n",
      " |      |            | XP_011817652.1[Colobus angolensis pal...\n",
      " |      |\n",
      " |      |____________ KAI4083901.1[Homo sapiens]\n",
      " |\n",
      " |________________ XP_031516314.1[Papio anubis]\n",
      " |\n",
      " |               _ XP_035144729.1[Callithrix jacchus]\n",
      " |              |\n",
      " |              |, XP_037845232.1[Chlorocebus sabaeus]\n",
      " |              ||\n",
      " |______________||, XP_033057806.1[Trachypithecus francoisi]\n",
      " |              |||\n",
      " |              ||, XP_005595091.2[Macaca fascicularis]\n",
      " |              |||\n",
      " |              ||| XP_011716754.1[Macaca nemestrina]\n",
      " |               ||\n",
      " |               || XP_011818598.1[Colobus angolensis pal...\n",
      " |               |\n",
      " |               | AAA52484.1[Homo sapiens]\n",
      " |\n",
      " |                              , XP_007979763.1[Chlorocebus sabaeus]\n",
      " |                              |\n",
      " |                             _|, XP_011799910.1[Colobus angolensis pal...\n",
      " |                            | ,|\n",
      " |                            | || XP_033049556.1[Trachypithecus francoisi]\n",
      " |                            | |\n",
      " |                            | |, XP_003896141.3[Papio anubis]\n",
      " |             _______________| ||\n",
      " |            |               | || XP_011767421.2[Macaca nemestrina]\n",
      " |            |               |  |\n",
      " |            |               |  | XP_005549818.2[Macaca fascicularis]\n",
      " |            |               |\n",
      " |            |               | , XP_009000310.1[Callithrix jacchus]\n",
      " |____________|               |_|\n",
      "              |                 | AAK26441.1[Homo sapiens]\n",
      "              |\n",
      "              |              __ XP_035145208.1[Callithrix jacchus]\n",
      "              |             |\n",
      "              |             |  , XP_011814137.1[Colobus angolensis pal...\n",
      "              |             | _|\n",
      "              |_____________|| , XP_033057755.1[Trachypithecus francoisi]\n",
      "                            || |\n",
      "                            || , XP_007990725.1[Chlorocebus sabaeus]\n",
      "                            || |\n",
      "                            || , XP_003918170.2[Papio anubis]\n",
      "                             | |\n",
      "                             | , XP_011754392.1[Macaca nemestrina]\n",
      "                             | |\n",
      "                             | | XP_005594386.1[Macaca fascicularis]\n",
      "                             |\n",
      "                             |_ BAA04809.1[Homo sapiens]\n",
      "\n"
     ]
    }
   ],
   "source": [
    "from Bio.Phylo.TreeConstruction import DistanceTreeConstructor,DistanceMatrix\n",
    "\n",
    "def make_dm(raw_dm):\n",
    "    \n",
    "    m = raw_dm.shape[0]\n",
    "\n",
    "    mat = []\n",
    "\n",
    "    for i in range(m):\n",
    "        mat.append([])\n",
    "        for j in range(i+1):\n",
    "            mat[-1].append(raw_dm[i, j])\n",
    "    return mat\n",
    "\n",
    "raw_dm = (1- score_hit_matrix)\n",
    "\n",
    "dm = DistanceMatrix([r.name+parse_organism(r) for r in result_record_list], make_dm(raw_dm))\n",
    "constructor = DistanceTreeConstructor()\n",
    "dm\n",
    "upgmatree = constructor.upgma(dm)\n",
    "# print(upgmatree)\n",
    "from Bio import Phylo\n",
    "Phylo.draw_ascii(upgmatree)"
   ]
  },
  {
   "cell_type": "code",
   "execution_count": 208,
   "id": "41447412-b4df-41e4-95d6-dc154c6924bb",
   "metadata": {},
   "outputs": [],
   "source": [
    "from Bio.Phylo.TreeConstruction import DistanceTreeConstructor,DistanceMatrix\n",
    "\n",
    "def make_dm(raw_dm):\n",
    "    \n",
    "    m = raw_dm.shape[0]\n",
    "\n",
    "    mat = []\n",
    "\n",
    "    for i in range(m):\n",
    "        mat.append([])\n",
    "        for j in range(i+1):\n",
    "            mat[-1].append(raw_dm[i, j])\n",
    "    return mat\n",
    "\n",
    "def get_tree(group_id=None):\n",
    "    if group_id is None:\n",
    "        low_bar = 0\n",
    "        high_bar = len(result_record_list)\n",
    "        func_leaf = lambda r: r.name+parse_organism(r)\n",
    "    else:\n",
    "        low_bar = 8 * group_id\n",
    "        high_bar = 8 * (group_id+1)\n",
    "        func_leaf = parse_organism\n",
    "\n",
    "    raw_dm = (1- score_hit_matrix)\n",
    "    \n",
    "    dm = DistanceMatrix([func_leaf(r) for r in result_record_list[low_bar:high_bar]], make_dm(raw_dm[low_bar:high_bar, low_bar:high_bar]))\n",
    "    constructor = DistanceTreeConstructor()\n",
    "    dm\n",
    "    upgmatree = constructor.upgma(dm)\n",
    "    # print(upgmatree)\n",
    "    from Bio import Phylo\n",
    "    #Phylo.draw_ascii(upgmatree)\n",
    "    \n",
    "    return upgmatree"
   ]
  },
  {
   "cell_type": "code",
   "execution_count": 209,
   "id": "a9c9a7a7-c723-457b-80e5-57b957f00d77",
   "metadata": {},
   "outputs": [],
   "source": [
    "cluster_trees = [get_tree(i) for i in range(8)]"
   ]
  },
  {
   "cell_type": "code",
   "execution_count": 215,
   "id": "bed58a07-af5a-40d6-90d3-854a0365c012",
   "metadata": {},
   "outputs": [],
   "source": [
    "from Bio.Phylo import Consensus\n",
    "# Bio.Phylo.Consensus\n",
    "consensus_tree = Phylo.Consensus.majority_consensus(cluster_trees)"
   ]
  },
  {
   "cell_type": "code",
   "execution_count": 217,
   "id": "46931d82-8de7-4c3f-9e7c-93086697f8e7",
   "metadata": {},
   "outputs": [
    {
     "name": "stdout",
     "output_type": "stream",
     "text": [
      "  ____________________________ [Callithrix jacchus]\n",
      "_|\n",
      " |                          _______________ [Homo sapiens]\n",
      " |_________________________|\n",
      "                           |       ___ [Colobus angolensis palliatus]\n",
      "                           |______|\n",
      "                                  |       _ [Trachypithecus francoisi]\n",
      "                                  |______|\n",
      "                                         |  _ [Chlorocebus sabaeus]\n",
      "                                         |_|\n",
      "                                           | , [Papio anubis]\n",
      "                                           |_|\n",
      "                                             |, [Macaca nemestrina]\n",
      "                                             ||\n",
      "                                              | [Macaca fascicularis]\n",
      "\n"
     ]
    }
   ],
   "source": [
    "Phylo.draw_ascii(consensus_tree)"
   ]
  },
  {
   "cell_type": "code",
   "execution_count": 116,
   "id": "48b0894b-1cb0-4c47-8700-0af1d8307a1f",
   "metadata": {},
   "outputs": [
    {
     "data": {
      "text/plain": [
       "0.0"
      ]
     },
     "execution_count": 116,
     "metadata": {},
     "output_type": "execute_result"
    }
   ],
   "source": [
    "score_hit_matrix.min()"
   ]
  },
  {
   "cell_type": "code",
   "execution_count": 68,
   "id": "bad426de-d6c0-4857-a1d2-29a228c475a2",
   "metadata": {},
   "outputs": [
    {
     "data": {
      "text/plain": [
       "64"
      ]
     },
     "execution_count": 68,
     "metadata": {},
     "output_type": "execute_result"
    }
   ],
   "source": [
    "len(result_record_list)"
   ]
  },
  {
   "cell_type": "code",
   "execution_count": 58,
   "id": "3df368d6-5c87-45c7-9200-9b4e0222f3ce",
   "metadata": {},
   "outputs": [
    {
     "data": {
      "text/plain": [
       "'monax]'"
      ]
     },
     "execution_count": 58,
     "metadata": {},
     "output_type": "execute_result"
    }
   ],
   "source": [
    "r.description.split()[-1]"
   ]
  },
  {
   "cell_type": "code",
   "execution_count": 60,
   "id": "f0b5caf6-65d6-4e7e-83ef-f959aa4fdd38",
   "metadata": {},
   "outputs": [
    {
     "data": {
      "text/plain": [
       "'[Marmota monax]'"
      ]
     },
     "execution_count": 60,
     "metadata": {},
     "output_type": "execute_result"
    }
   ],
   "source": [
    "import re\n",
    "z = re.search(r\"\\[.*\\]\", r.description)\n",
    "# r.description\n",
    "z.group(0)"
   ]
  },
  {
   "cell_type": "code",
   "execution_count": 42,
   "id": "f064d7a6-af3b-499b-868f-1ec43e54362c",
   "metadata": {},
   "outputs": [
    {
     "data": {
      "text/plain": [
       "['__add__',\n",
       " '__bool__',\n",
       " '__class__',\n",
       " '__contains__',\n",
       " '__delattr__',\n",
       " '__dict__',\n",
       " '__dir__',\n",
       " '__doc__',\n",
       " '__eq__',\n",
       " '__format__',\n",
       " '__ge__',\n",
       " '__getattribute__',\n",
       " '__getitem__',\n",
       " '__gt__',\n",
       " '__hash__',\n",
       " '__init__',\n",
       " '__init_subclass__',\n",
       " '__iter__',\n",
       " '__le__',\n",
       " '__le___',\n",
       " '__len__',\n",
       " '__lt__',\n",
       " '__module__',\n",
       " '__ne__',\n",
       " '__new__',\n",
       " '__radd__',\n",
       " '__reduce__',\n",
       " '__reduce_ex__',\n",
       " '__repr__',\n",
       " '__setattr__',\n",
       " '__sizeof__',\n",
       " '__str__',\n",
       " '__subclasshook__',\n",
       " '__weakref__',\n",
       " '_per_letter_annotations',\n",
       " '_seq',\n",
       " '_set_per_letter_annotations',\n",
       " '_set_seq',\n",
       " 'annotations',\n",
       " 'dbxrefs',\n",
       " 'description',\n",
       " 'features',\n",
       " 'format',\n",
       " 'id',\n",
       " 'letter_annotations',\n",
       " 'lower',\n",
       " 'name',\n",
       " 'reverse_complement',\n",
       " 'seq',\n",
       " 'translate',\n",
       " 'upper']"
      ]
     },
     "execution_count": 42,
     "metadata": {},
     "output_type": "execute_result"
    }
   ],
   "source": [
    "dir(records[0])"
   ]
  },
  {
   "cell_type": "code",
   "execution_count": 46,
   "id": "28fa48c8-e8b3-425d-ad9d-d2226e385aa8",
   "metadata": {},
   "outputs": [
    {
     "data": {
      "text/plain": [
       "'BAA04809.1 collagen [Homo sapiens]'"
      ]
     },
     "execution_count": 46,
     "metadata": {},
     "output_type": "execute_result"
    }
   ],
   "source": [
    "records[0].description"
   ]
  },
  {
   "cell_type": "code",
   "execution_count": null,
   "id": "128ad753-a2c9-4951-b4c3-d6c4c4e2e3de",
   "metadata": {},
   "outputs": [],
   "source": [
    "from Bio.Seq import Seq\n",
    "from Bio import SeqIO\n",
    "from Bio.SeqRecord import SeqRecord\n",
    "\n",
    "record = SeqRecord(\n",
    "    Seq(\"MKQHKAMIVALIVICITAVVAALVTRKDLCEVHIRTGQTEVAVF\"),\n",
    "    id=\"YP_025292.1\",\n",
    "    name=\"HokC\",\n",
    "    description=\"toxic membrane protein, small\",\n",
    ")\n",
    "\n",
    "\n",
    "sequences = []  # add code here\n",
    "\n",
    "for k,v in d.items():\n",
    "    tmp = SeqRecord(\n",
    "        Seq(\"MKQHKAMIVALIVICITAVVAALVTRKDLCEVHIRTGQTEVAVF\"),\n",
    "        id=\"YP_025292.1\",\n",
    "        name=\"HokC\",\n",
    "        description=\"toxic membrane protein, small\",\n",
    "    )\n",
    "    \n",
    "\n",
    "with open(\"example.fasta\", \"w\") as output_handle:\n",
    "    SeqIO.write(sequences, output_handle, \"fasta\")"
   ]
  },
  {
   "cell_type": "code",
   "execution_count": 21,
   "id": "fc0e6768-970c-4422-9b60-e4db8c925d67",
   "metadata": {},
   "outputs": [
    {
     "data": {
      "text/plain": [
       "dict_keys(['dataset/BAA04809.1.txt', 'dataset/AAA52484.1.txt', 'dataset/AAK26441.1.txt', 'dataset/NP_001027466.1.txt', 'dataset/KAI4083901.1.txt', 'dataset/AAB60937.1.txt', 'dataset/AAN17825.1.txt', 'dataset/KAI4030570.1.txt'])"
      ]
     },
     "execution_count": 21,
     "metadata": {},
     "output_type": "execute_result"
    }
   ],
   "source": [
    "d.keys()"
   ]
  },
  {
   "cell_type": "code",
   "execution_count": 23,
   "id": "f9544ff4-637a-4b57-a41f-6ae5c02ea87b",
   "metadata": {},
   "outputs": [
    {
     "data": {
      "text/plain": [
       "{'[Homo sapiens]': <__main__.GeneStruct at 0x7f9d686ebc50>,\n",
       " '[Colobus angolensis palliatus]': <__main__.GeneStruct at 0x7f9d686f2750>,\n",
       " '[Macaca fascicularis]': <__main__.GeneStruct at 0x7f9d686f2190>,\n",
       " '[Papio anubis]': <__main__.GeneStruct at 0x7f9d686f2110>,\n",
       " '[Chlorocebus sabaeus]': <__main__.GeneStruct at 0x7f9d686f2f10>,\n",
       " '[Trachypithecus francoisi]': <__main__.GeneStruct at 0x7f9d686f2490>,\n",
       " '[Macaca nemestrina]': <__main__.GeneStruct at 0x7f9d686f25d0>,\n",
       " '[Callithrix jacchus]': <__main__.GeneStruct at 0x7f9d686f6490>}"
      ]
     },
     "execution_count": 23,
     "metadata": {},
     "output_type": "execute_result"
    }
   ],
   "source": [
    "d['dataset/KAI4030570.1.txt']"
   ]
  },
  {
   "cell_type": "code",
   "execution_count": 24,
   "id": "28a37af3-6a61-42e6-9e66-d42fa2c890a4",
   "metadata": {},
   "outputs": [
    {
     "data": {
      "text/plain": [
       "{'[Homo sapiens]': <__main__.GeneStruct at 0x7f9d5a475690>,\n",
       " '[Macaca fascicularis]': <__main__.GeneStruct at 0x7f9d5a479390>,\n",
       " '[Macaca nemestrina]': <__main__.GeneStruct at 0x7f9d5a479110>,\n",
       " '[Papio anubis]': <__main__.GeneStruct at 0x7f9d5a4791d0>,\n",
       " '[Colobus angolensis palliatus]': <__main__.GeneStruct at 0x7f9d5a479310>,\n",
       " '[Chlorocebus sabaeus]': <__main__.GeneStruct at 0x7f9d5a479410>,\n",
       " '[Trachypithecus francoisi]': <__main__.GeneStruct at 0x7f9d5a479550>,\n",
       " '[Callithrix jacchus]': <__main__.GeneStruct at 0x7f9d5a479950>}"
      ]
     },
     "execution_count": 24,
     "metadata": {},
     "output_type": "execute_result"
    }
   ],
   "source": [
    "d['dataset/AAN17825.1.txt']"
   ]
  },
  {
   "cell_type": "code",
   "execution_count": 12,
   "id": "0d195fae-d057-497c-ae44-33efca9dd9d6",
   "metadata": {},
   "outputs": [
    {
     "name": "stdout",
     "output_type": "stream",
     "text": [
      "dataset/AAA52484.1.txt\n",
      "dataset/BAA04809.1.txt\n",
      "dataset/AAK26441.1.txt\n",
      "dataset/AAB60937.1.txt\n",
      "dataset/AAN17825.1.txt\n",
      "dataset/NP_001027466.1.txt\n",
      "dataset/KAI4083901.1.txt\n",
      "dataset/KAI4030570.1.txt\n"
     ]
    }
   ],
   "source": [
    "for r in readers:\n",
    "    print(r.file_name)\n",
    "    "
   ]
  },
  {
   "cell_type": "code",
   "execution_count": 112,
   "id": "5e27a60a-9ec7-4042-a2e8-af705ffb39bd",
   "metadata": {},
   "outputs": [
    {
     "name": "stdout",
     "output_type": "stream",
     "text": [
      "[Piliocolobus tephrosceles]\n"
     ]
    }
   ],
   "source": [
    "for org in candidate_organisms:\n",
    "    if org not in [ gene_struct.organism for gene_struct in readers[0].gene_list]:\n",
    "        print(org)"
   ]
  },
  {
   "cell_type": "code",
   "execution_count": 51,
   "id": "e39f31b3-13b3-4421-a87c-e28b645723dd",
   "metadata": {},
   "outputs": [
    {
     "data": {
      "text/plain": [
       "[4, 1, 3]"
      ]
     },
     "execution_count": 51,
     "metadata": {},
     "output_type": "execute_result"
    }
   ],
   "source": [
    "z = [4,1,2,3]\n",
    "z.remove(2)\n",
    "z"
   ]
  },
  {
   "cell_type": "code",
   "execution_count": 42,
   "id": "e98a9979-bfd4-4447-af33-80b792cdf73a",
   "metadata": {},
   "outputs": [],
   "source": [
    "organism_set_list = []\n",
    "\n",
    "for r in readers:\n",
    "    s = set()\n",
    "    for gene_struct in r.gene_list:\n",
    "        s.add(gene_struct.organism)\n",
    "        # s.add(gene_struct.organism.split(' ')[0][1:])\n",
    "    organism_set_list.append(s)"
   ]
  },
  {
   "cell_type": "code",
   "execution_count": 44,
   "id": "e28efb58-8084-438a-a3c7-da1295123afe",
   "metadata": {},
   "outputs": [],
   "source": [
    "organism_count_dict = {}\n",
    "for organism_set in organism_set_list[1:]:\n",
    "    for organism in organism_set:\n",
    "        organism_count_dict[organism] = organism_count_dict.get(organism, 0) + 1"
   ]
  },
  {
   "cell_type": "code",
   "execution_count": 45,
   "id": "627b7688-88c1-41a4-ae9b-201f41ed86f8",
   "metadata": {},
   "outputs": [
    {
     "data": {
      "text/plain": [
       "['[Cebus imitator]',\n",
       " '[Cercocebus atys]',\n",
       " '[Aotus nancymaae]',\n",
       " '[Sapajus apella]',\n",
       " '[Callithrix jacchus]']"
      ]
     },
     "execution_count": 45,
     "metadata": {},
     "output_type": "execute_result"
    }
   ],
   "source": [
    "[k for k, v in organism_count_dict.items() if v>=8]"
   ]
  },
  {
   "cell_type": "code",
   "execution_count": null,
   "id": "082c6086-af80-4996-8bf0-ab80f1e95080",
   "metadata": {},
   "outputs": [],
   "source": []
  }
 ],
 "metadata": {
  "kernelspec": {
   "display_name": "Python 3 (ipykernel)",
   "language": "python",
   "name": "python3"
  },
  "language_info": {
   "codemirror_mode": {
    "name": "ipython",
    "version": 3
   },
   "file_extension": ".py",
   "mimetype": "text/x-python",
   "name": "python",
   "nbconvert_exporter": "python",
   "pygments_lexer": "ipython3",
   "version": "3.7.13"
  }
 },
 "nbformat": 4,
 "nbformat_minor": 5
}
