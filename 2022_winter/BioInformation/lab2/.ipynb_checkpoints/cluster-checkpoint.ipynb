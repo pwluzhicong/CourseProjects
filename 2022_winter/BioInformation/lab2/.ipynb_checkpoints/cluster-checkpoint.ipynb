{
 "cells": [
  {
   "cell_type": "code",
   "execution_count": 1,
   "id": "6ace52a4-80e1-4c21-82e2-e5f42edd68bc",
   "metadata": {},
   "outputs": [],
   "source": [
    "import numpy as np\n",
    "\n",
    "class GeneStruct:\n",
    "    def __init__(self, name, description, organism):\n",
    "        self.name = name\n",
    "        self.description = description\n",
    "        self.organism = organism\n",
    "        self.seq = \"\"\n",
    "        \n",
    "\n",
    "class FastaGeneReader:\n",
    "    def __init__(self):\n",
    "        self.gene_list = None\n",
    "        self.file_name = None\n",
    "    \n",
    "    def read_from_file(self, file):\n",
    "        self.file_name = file\n",
    "        self.gene_list = []\n",
    "        \n",
    "        with open(file) as fin:\n",
    "            \n",
    "            for line in fin.readlines():\n",
    "                if line[0] == '>':\n",
    "                    blank_idx = line.find(' ')\n",
    "                    \n",
    "                    org_idx = line.find('[')\n",
    "                    \n",
    "                    gene = GeneStruct(\n",
    "                        line[1:blank_idx],\n",
    "                        line[blank_idx+1:org_idx].strip(),\n",
    "                        line[org_idx:].strip(),\n",
    "                    )\n",
    "                    self.gene_list.append(gene)\n",
    "                else:\n",
    "                    self.gene_list[-1].seq += line.strip()"
   ]
  },
  {
   "cell_type": "code",
   "execution_count": null,
   "id": "5a33e850-5113-46c7-ad0c-29bc0479118b",
   "metadata": {},
   "outputs": [],
   "source": [
    "os.path.exist"
   ]
  },
  {
   "cell_type": "code",
   "execution_count": 2,
   "id": "f4cb8472-e28f-42f6-8527-8a4163786c80",
   "metadata": {},
   "outputs": [],
   "source": [
    "import os\n",
    "readers = []\n",
    "for filename in os.listdir(\"dataset\"):\n",
    "    if(filename[0]!='.'):\n",
    "        r = FastaGeneReader()\n",
    "        r.read_from_file(\"dataset/\"+filename)\n",
    "        readers.append(r)\n",
    "        \n",
    "organism_set_list = []\n",
    "\n",
    "for r in readers:\n",
    "    s = set()\n",
    "    for gene_struct in r.gene_list:\n",
    "        s.add(gene_struct.organism)\n",
    "        # s.add(gene_struct.organism.split(' ')[0][1:])\n",
    "    organism_set_list.append(s)\n",
    "    \n",
    "organism_count_dict = {}\n",
    "for organism_set in organism_set_list[1:]:\n",
    "    for organism in organism_set:\n",
    "        organism_count_dict[organism] = organism_count_dict.get(organism, 0) + 1\n",
    "        \n",
    "candidate_organisms = [k for k, v in organism_count_dict.items() if v>=8]"
   ]
  },
  {
   "cell_type": "code",
   "execution_count": 3,
   "id": "125ba11b-f9e5-425a-a0e6-1cb3dadeb4ff",
   "metadata": {},
   "outputs": [
    {
     "data": {
      "text/plain": [
       "25"
      ]
     },
     "execution_count": 3,
     "metadata": {},
     "output_type": "execute_result"
    }
   ],
   "source": [
    "len(candidate_organisms)"
   ]
  },
  {
   "cell_type": "code",
   "execution_count": 4,
   "id": "73f184a3-459c-4695-9e64-ab9f4035f509",
   "metadata": {},
   "outputs": [],
   "source": [
    "r_list = []\n",
    "for r in readers:\n",
    "    num = 0\n",
    "    c = candidate_organisms.copy()\n",
    "    for gene_struct in r.gene_list:\n",
    "        if gene_struct.organism in c:\n",
    "            num += 1\n",
    "            c.remove(gene_struct.organism)\n",
    "    r_list.append((num, r))\n",
    "    \n",
    "readers = [b for a,b in sorted(r_list, key=lambda x:x[0])[-8:]]"
   ]
  },
  {
   "cell_type": "code",
   "execution_count": 103,
   "id": "ac442167-facc-47da-8a0f-998ac90c51ac",
   "metadata": {},
   "outputs": [
    {
     "data": {
      "text/plain": [
       "[<__main__.FastaGeneReader at 0x7fa5a004edd0>,\n",
       " <__main__.FastaGeneReader at 0x7fa5a004e450>,\n",
       " <__main__.FastaGeneReader at 0x7fa5f101ef10>,\n",
       " <__main__.FastaGeneReader at 0x7fa5f101eed0>,\n",
       " <__main__.FastaGeneReader at 0x7fa5f102f5d0>,\n",
       " <__main__.FastaGeneReader at 0x7fa5f1029990>,\n",
       " <__main__.FastaGeneReader at 0x7fa5f101ef50>,\n",
       " <__main__.FastaGeneReader at 0x7fa5a004e8d0>]"
      ]
     },
     "execution_count": 103,
     "metadata": {},
     "output_type": "execute_result"
    }
   ],
   "source": [
    "readers"
   ]
  },
  {
   "cell_type": "code",
   "execution_count": 5,
   "id": "bb7b869e-d525-4ced-9aa5-bfc02590dd11",
   "metadata": {},
   "outputs": [
    {
     "data": {
      "text/plain": [
       "'AKI72283.1'"
      ]
     },
     "execution_count": 5,
     "metadata": {},
     "output_type": "execute_result"
    }
   ],
   "source": [
    "readers[4].gene_list[1].name"
   ]
  },
  {
   "cell_type": "code",
   "execution_count": 8,
   "id": "64dea4d4-a3bb-4043-9cdb-ed928bc4fdd8",
   "metadata": {},
   "outputs": [
    {
     "data": {
      "text/plain": [
       "['[Chlorocebus sabaeus]',\n",
       " '[Trachypithecus francoisi]',\n",
       " '[Theropithecus gelada]',\n",
       " '[Macaca nemestrina]',\n",
       " '[Macaca fascicularis]',\n",
       " '[Colobus angolensis palliatus]',\n",
       " '[Callithrix jacchus]',\n",
       " '[Papio anubis]',\n",
       " '[Homo sapiens]',\n",
       " '[Saimiri boliviensis boliviensis]']"
      ]
     },
     "execution_count": 8,
     "metadata": {},
     "output_type": "execute_result"
    }
   ],
   "source": [
    "organism_set_list = []\n",
    "\n",
    "for r in readers:\n",
    "    s = set()\n",
    "    for gene_struct in r.gene_list:\n",
    "        s.add(gene_struct.organism)\n",
    "        # s.add(gene_struct.organism.split(' ')[0][1:])\n",
    "    organism_set_list.append(s)\n",
    "    \n",
    "organism_count_dict = {}\n",
    "for organism_set in organism_set_list[1:]:\n",
    "    for organism in organism_set:\n",
    "        organism_count_dict[organism] = organism_count_dict.get(organism, 0) + 1\n",
    "        \n",
    "candidate_organisms = [k for k, v in organism_count_dict.items() if v>=7]\n",
    "candidate_organisms"
   ]
  },
  {
   "cell_type": "code",
   "execution_count": 224,
   "id": "4dffae16-11cc-41d8-8a63-6ec65c3a7ca2",
   "metadata": {},
   "outputs": [],
   "source": [
    "organisms = [\n",
    " '[Homo sapiens]',\n",
    " '[Chlorocebus sabaeus]',\n",
    " '[Trachypithecus francoisi]',\n",
    " # '[Theropithecus gelada]',\n",
    " '[Macaca nemestrina]',\n",
    " '[Macaca fascicularis]',\n",
    " '[Colobus angolensis palliatus]',\n",
    " '[Callithrix jacchus]',\n",
    " '[Papio anubis]',\n",
    "\n",
    " # '[Saimiri boliviensis boliviensis]'\n",
    "]\n",
    "len(readers)\n",
    "\n",
    "d = {}\n",
    "\n",
    "for r in readers:\n",
    "    d[r.file_name] = {}\n",
    "    for gene_struct in r.gene_list: \n",
    "        if gene_struct.organism in organisms:\n",
    "            d[r.file_name][gene_struct.organism] = gene_struct"
   ]
  },
  {
   "cell_type": "code",
   "execution_count": 238,
   "id": "943531e9-f66e-4acf-b379-c0a22805fa41",
   "metadata": {},
   "outputs": [],
   "source": [
    "# format_ = r'''\\begin{subfigure}{.4\\textwidth}\n",
    "#     \\centering\n",
    "#     \\includegraphics[width=.6\\linewidth]{%s.jpeg}\n",
    "#     \\caption{%s}\n",
    "#     \\label{fig:%s}\n",
    "# \\end{subfigure}'''\n",
    "# for i, ss in enumerate(organisms):\n",
    "#     s = ss.strip(\"[]\")\n",
    "#     print(format_% (s, s, s))"
   ]
  },
  {
   "cell_type": "code",
   "execution_count": 218,
   "id": "2e52b1c4-c0fb-4151-aeae-e527d4adb1e7",
   "metadata": {},
   "outputs": [
    {
     "data": {
      "text/plain": [
       "[8, 8, 8, 8, 8, 8, 8, 8]"
      ]
     },
     "execution_count": 218,
     "metadata": {},
     "output_type": "execute_result"
    }
   ],
   "source": [
    "[len(v) for k,v in d.items()]"
   ]
  },
  {
   "cell_type": "code",
   "execution_count": 31,
   "id": "cf8b4c86-1fab-40ce-91be-a246983a9a51",
   "metadata": {},
   "outputs": [
    {
     "data": {
      "text/plain": [
       "['dataset/BAA04809.1.txt',\n",
       " 'dataset/AAA52484.1.txt',\n",
       " 'dataset/AAK26441.1.txt',\n",
       " 'dataset/NP_001027466.1.txt',\n",
       " 'dataset/KAI4083901.1.txt',\n",
       " 'dataset/AAB60937.1.txt',\n",
       " 'dataset/AAN17825.1.txt',\n",
       " 'dataset/KAI4030570.1.txt']"
      ]
     },
     "execution_count": 31,
     "metadata": {},
     "output_type": "execute_result"
    }
   ],
   "source": [
    "[k for k,v in d.items()]"
   ]
  },
  {
   "cell_type": "code",
   "execution_count": 64,
   "id": "5770d02b-3a64-46f3-9228-2e0faa0c773a",
   "metadata": {},
   "outputs": [
    {
     "data": {
      "text/plain": [
       "['[Chlorocebus sabaeus]',\n",
       " '[Trachypithecus francoisi]',\n",
       " '[Macaca nemestrina]',\n",
       " '[Macaca fascicularis]',\n",
       " '[Colobus angolensis palliatus]',\n",
       " '[Callithrix jacchus]',\n",
       " '[Papio anubis]',\n",
       " '[Homo sapiens]']"
      ]
     },
     "execution_count": 64,
     "metadata": {},
     "output_type": "execute_result"
    }
   ],
   "source": [
    "organisms"
   ]
  },
  {
   "cell_type": "code",
   "execution_count": 30,
   "id": "a1400174-e633-45b3-972e-dd7fae83147a",
   "metadata": {},
   "outputs": [],
   "source": [
    "import Bio\n",
    "import Bio.AlignIO"
   ]
  },
  {
   "cell_type": "code",
   "execution_count": 83,
   "id": "57ad354b-5752-41d1-9759-2e3559198c42",
   "metadata": {},
   "outputs": [],
   "source": [
    "from Bio import SeqIO\n",
    "result_record_list = []\n",
    "\n",
    "import re\n",
    "\n",
    "def parse_organism(r):\n",
    "    import re\n",
    "    return re.search(r\"\\[.*\\]\", r.description).group(0)\n",
    "\n",
    "for i, (file_name, v_list) in enumerate(d.items()):\n",
    "    local_organisms = organisms.copy()\n",
    "    records = list(SeqIO.parse(file_name, \"fasta\"))\n",
    "    for r in records:\n",
    "        org_name = re.search(r\"\\[.*\\]\", r.description).group(0)\n",
    "        if org_name in local_organisms:\n",
    "            local_organisms.remove(org_name)\n",
    "            r.annotations[\"group\"] = str(i)\n",
    "            result_record_list.append(r)\n",
    "    \n",
    "from Bio import SeqIO\n",
    "with open(\"64_samples.fasta\", \"w\") as output_handle:\n",
    "    SeqIO.write(result_record_list, output_handle, \"fasta\")\n",
    "    "
   ]
  },
  {
   "cell_type": "code",
   "execution_count": 140,
   "id": "6c4f4dfe-dc6c-4ae9-9f5d-b1fd4e662c7b",
   "metadata": {},
   "outputs": [],
   "source": [
    "from Bio import SeqIO\n",
    "result_record_list = []\n",
    "\n",
    "import re\n",
    "\n",
    "for i, (file_name, v_list) in enumerate(d.items()):\n",
    "    local_record_list = []\n",
    "    local_organisms = organisms.copy()\n",
    "    records = list(SeqIO.parse(file_name, \"fasta\"))\n",
    "    for r in records:\n",
    "        org_name = re.search(r\"\\[.*\\]\", r.description).group(0)\n",
    "        if org_name in local_organisms:\n",
    "            local_organisms.remove(org_name)\n",
    "            r.annotations[\"group\"] = str(i)\n",
    "            local_record_list.append(r)\n",
    "            result_record_list.append(r)\n",
    "    \n",
    "    from Bio import SeqIO\n",
    "    with open(\"%s.fasta\" % i, \"w\") as output_handle:\n",
    "        SeqIO.write(local_record_list, output_handle, \"fasta\")\n"
   ]
  },
  {
   "cell_type": "code",
   "execution_count": null,
   "id": "c470661d-5f4e-4729-b959-a3a29dda6ddb",
   "metadata": {},
   "outputs": [],
   "source": []
  },
  {
   "cell_type": "code",
   "execution_count": 30,
   "id": "c2ce8be4-c18a-4a62-9b4e-520b4f105490",
   "metadata": {},
   "outputs": [],
   "source": [
    "import re\n",
    "\n",
    "def parse_organism(r):\n",
    "    import re\n",
    "    return re.search(r\"\\[.*\\]\", r.description).group(0)\n",
    "\n",
    "\n",
    "from Bio import SeqIO\n",
    "result_record_list = []\n",
    "with open(\"64_samples.fasta\", \"r\") as input_handle:\n",
    "    for r in SeqIO.parse(input_handle, \"fasta\"):\n",
    "        result_record_list.append(r)\n",
    "protein_idx_dict = {}\n",
    "for i, r in enumerate(result_record_list):\n",
    "    protein_idx_dict[r.name] = i"
   ]
  },
  {
   "cell_type": "code",
   "execution_count": 15,
   "id": "e565e64c-34de-4d04-91b4-e8f8cff71230",
   "metadata": {},
   "outputs": [
    {
     "data": {
      "text/plain": [
       "0"
      ]
     },
     "execution_count": 15,
     "metadata": {},
     "output_type": "execute_result"
    }
   ],
   "source": [
    "import Bio.Blast.Applications\n",
    "\n",
    "from Bio.Blast.Applications import NcbiblastpCommandline\n",
    "\n",
    "# dir(Bio.Blast.Applications.)\n",
    "# NcbiblastpCommandline()\n",
    "s = \"/usr/local/ncbi/blast/bin/blastp -subject 64_samples.fasta -query 64_samples.fasta -out test0.out -outfmt 10  -max_target_seqs 64\"\n",
    "import os\n",
    "os.system(s)\n",
    "\n"
   ]
  },
  {
   "cell_type": "code",
   "execution_count": 16,
   "id": "c4a4052e-a5a6-451b-8d36-c9c0a5ab5676",
   "metadata": {},
   "outputs": [],
   "source": [
    "import pandas as pd\n",
    "\n",
    "df = pd.read_csv(\"test0.out\", header=None)"
   ]
  },
  {
   "cell_type": "code",
   "execution_count": null,
   "id": "316e1b22-ed14-4591-9df2-a2c3453a5041",
   "metadata": {},
   "outputs": [],
   "source": []
  },
  {
   "cell_type": "code",
   "execution_count": 19,
   "id": "980c2280-7c82-41d6-b8c8-f8949566b699",
   "metadata": {},
   "outputs": [],
   "source": [
    "import numpy as np\n",
    "similarity_matrix = np.zeros((len(result_record_list), len(result_record_list)))\n",
    "score_hit_matrix = np.zeros((len(result_record_list), len(result_record_list)))\n",
    "\n",
    "\n",
    "\n",
    "for i in range(df.shape[0]):\n",
    "    src = df.loc[i, 0]\n",
    "    dst = df.loc[i, 1]\n",
    "    similarity_matrix[protein_idx_dict[src], protein_idx_dict[dst]] = df.loc[i, 2]\n",
    "    score_hit_matrix[protein_idx_dict[src], protein_idx_dict[dst]] = df.loc[i, 11]\n",
    "    \n",
    "for i in range(len(result_record_list)):\n",
    "    score_hit_matrix[i, :] /=  score_hit_matrix[i, i]"
   ]
  },
  {
   "cell_type": "code",
   "execution_count": 99,
   "id": "e0abf08c-b3f4-4ba2-bad3-fd15998b437f",
   "metadata": {},
   "outputs": [
    {
     "data": {
      "text/plain": [
       "(array([ 1,  2, 11, 23, 33, 45, 49, 59], dtype=int32),\n",
       " array([ 7,  1,  8, 12,  8,  8,  8, 12]),\n",
       " 11.301335810866378)"
      ]
     },
     "execution_count": 99,
     "metadata": {},
     "output_type": "execute_result"
    }
   ],
   "source": [
    "import Bio.Cluster\n",
    "z = Bio.Cluster.kmedoids(1-score_hit_matrix, nclusters=8, npass=1, initialid=None)\n",
    "unique, counts = np.unique(z[0], return_counts=True)\n",
    "unique, counts, z[1]\n"
   ]
  },
  {
   "cell_type": "code",
   "execution_count": 100,
   "id": "0825ddf1-cc57-42d3-878d-3194d0b04214",
   "metadata": {},
   "outputs": [
    {
     "data": {
      "text/plain": [
       "(array([11, 23, 27, 33, 45, 48, 49, 59], dtype=int32),\n",
       " array([ 8,  8, 15,  9,  8,  1,  7,  8]),\n",
       " 11.690092481942711)"
      ]
     },
     "execution_count": 100,
     "metadata": {},
     "output_type": "execute_result"
    }
   ],
   "source": [
    "import Bio.Cluster\n",
    "z = Bio.Cluster.kmedoids(1-score_hit_matrix, nclusters=8, npass=1, initialid=None)\n",
    "unique, counts = np.unique(z[0], return_counts=True)\n",
    "unique, counts, z[1]\n"
   ]
  },
  {
   "cell_type": "code",
   "execution_count": 104,
   "id": "2ee4c217-131b-41c0-a235-01f4c1de7b93",
   "metadata": {},
   "outputs": [
    {
     "data": {
      "text/plain": [
       "(array([ 1, 11, 23, 27, 33, 45, 49, 59], dtype=int32),\n",
       " array([8, 8, 8, 8, 8, 8, 8, 8]),\n",
       " 4.075580010969761)"
      ]
     },
     "execution_count": 104,
     "metadata": {},
     "output_type": "execute_result"
    }
   ],
   "source": [
    "import Bio.Cluster\n",
    "z = Bio.Cluster.kmedoids(1-score_hit_matrix, nclusters=8, npass=100, initialid=None)\n",
    "unique, counts = np.unique(z[0], return_counts=True)\n",
    "unique, counts, z[1]\n"
   ]
  },
  {
   "cell_type": "code",
   "execution_count": 108,
   "id": "a5882ddf-6718-4cf3-88ff-a48265b52e09",
   "metadata": {},
   "outputs": [
    {
     "data": {
      "text/plain": [
       "(array([ 1, 11, 23, 27, 33, 45, 49, 59], dtype=int32),\n",
       " array([8, 8, 8, 8, 8, 8, 8, 8]),\n",
       " 4.075580010969761)"
      ]
     },
     "execution_count": 108,
     "metadata": {},
     "output_type": "execute_result"
    }
   ],
   "source": [
    "import Bio.Cluster\n",
    "z = Bio.Cluster.kmedoids(1-score_hit_matrix, nclusters=8, npass=100, initialid=None)\n",
    "unique, counts = np.unique(z[0], return_counts=True)\n",
    "unique, counts, z[1]\n"
   ]
  },
  {
   "cell_type": "code",
   "execution_count": 107,
   "id": "ab825a27-ce94-4041-b71d-68de3790f02e",
   "metadata": {},
   "outputs": [
    {
     "data": {
      "text/plain": [
       "array([[ 1,  1,  1,  1,  1,  1,  1,  1],\n",
       "       [11, 11, 11, 11, 11, 11, 11, 11],\n",
       "       [23, 23, 23, 23, 23, 23, 23, 23],\n",
       "       [27, 27, 27, 27, 27, 27, 27, 27],\n",
       "       [33, 33, 33, 33, 33, 33, 33, 33],\n",
       "       [45, 45, 45, 45, 45, 45, 45, 45],\n",
       "       [49, 49, 49, 49, 49, 49, 49, 49],\n",
       "       [59, 59, 59, 59, 59, 59, 59, 59]], dtype=int32)"
      ]
     },
     "execution_count": 107,
     "metadata": {},
     "output_type": "execute_result"
    }
   ],
   "source": [
    "z[0].reshape((8,8))"
   ]
  },
  {
   "cell_type": "code",
   "execution_count": 102,
   "id": "253ce600-0b8a-4190-867f-8916af0c1b01",
   "metadata": {},
   "outputs": [
    {
     "data": {
      "text/plain": [
       "['[Macaca fascicularis]',\n",
       " '[Macaca fascicularis]',\n",
       " '[Callithrix jacchus]',\n",
       " '[Chlorocebus sabaeus]',\n",
       " '[Colobus angolensis palliatus]',\n",
       " '[Chlorocebus sabaeus]',\n",
       " '[Macaca fascicularis]',\n",
       " '[Papio anubis]']"
      ]
     },
     "execution_count": 102,
     "metadata": {},
     "output_type": "execute_result"
    }
   ],
   "source": [
    "[parse_organism(result_record_list[i]) for i in unique]"
   ]
  },
  {
   "cell_type": "code",
   "execution_count": 109,
   "id": "8d93493a-d0c1-45d7-b512-733026b678c7",
   "metadata": {},
   "outputs": [],
   "source": [
    "# from Bio.Phylo.TreeConstruction import DistanceTreeConstructor,DistanceMatrix\n",
    "\n",
    "# def parse_organism(r):\n",
    "#     import re\n",
    "#     return re.search(r\"\\[.*\\]\", r.description).group(0)\n",
    "\n",
    "\n",
    "# def make_dm(raw_dm):\n",
    "    \n",
    "#     m = raw_dm.shape[0]\n",
    "\n",
    "#     mat = []\n",
    "\n",
    "#     for i in range(m):\n",
    "#         mat.append([])\n",
    "#         for j in range(i+1):\n",
    "#             mat[-1].append(raw_dm[i, j])\n",
    "#     return mat\n",
    "\n",
    "# raw_dm = (1- score_hit_matrix)\n",
    "\n",
    "# dm = DistanceMatrix([r.name+parse_organism(r) for r in result_record_list], make_dm(raw_dm))\n",
    "# constructor = DistanceTreeConstructor()\n",
    "# dm\n",
    "# upgmatree = constructor.upgma(dm)\n",
    "# # print(upgmatree)\n",
    "# from Bio import Phylo\n",
    "# Phylo.draw_ascii(upgmatree)"
   ]
  },
  {
   "cell_type": "code",
   "execution_count": 124,
   "id": "41447412-b4df-41e4-95d6-dc154c6924bb",
   "metadata": {},
   "outputs": [],
   "source": [
    "from Bio.Phylo.TreeConstruction import DistanceTreeConstructor,DistanceMatrix\n",
    "\n",
    "def make_dm(raw_dm):\n",
    "    \n",
    "    m = raw_dm.shape[0]\n",
    "\n",
    "    mat = []\n",
    "\n",
    "    for i in range(m):\n",
    "        mat.append([])\n",
    "        for j in range(i+1):\n",
    "            mat[-1].append(raw_dm[i, j])\n",
    "    return mat\n",
    "\n",
    "def get_tree_from_group(group_id=None):\n",
    "    if group_id is None:\n",
    "        low_bar = 0\n",
    "        high_bar = len(result_record_list)\n",
    "        func_leaf = lambda r: r.name+parse_organism(r)\n",
    "    else:\n",
    "        low_bar = 8 * group_id\n",
    "        high_bar = 8 * (group_id+1)\n",
    "        func_leaf = parse_organism\n",
    "\n",
    "    raw_dm = (1- score_hit_matrix)\n",
    "    \n",
    "    dm = DistanceMatrix([func_leaf(r) for r in result_record_list[low_bar:high_bar]], make_dm(raw_dm[low_bar:high_bar, low_bar:high_bar]))\n",
    "    constructor = DistanceTreeConstructor()\n",
    "    dm\n",
    "    upgmatree = constructor.upgma(dm)\n",
    "    # print(upgmatree)\n",
    "    from Bio import Phylo\n",
    "    #Phylo.draw_ascii(upgmatree)\n",
    "    \n",
    "    return result_record_list[low_bar].description, upgmatree"
   ]
  },
  {
   "cell_type": "code",
   "execution_count": 139,
   "id": "0c74b21f-85d4-40e8-b909-7e670c2ee6ef",
   "metadata": {},
   "outputs": [],
   "source": [
    "def get_tree_from_cluster(cluster_obj, cluster_id):\n",
    "    medoids, counts = np.unique(z[0], return_counts=True)\n",
    "    medoid = medoids[cluster_id]\n",
    "    \n",
    "    indices = [i for i, c in enumerate(cluster_obj[0]) if c==medoid]\n",
    "    \n",
    "    func_leaf = lambda r: r.name+parse_organism(r)\n",
    "\n",
    "    raw_dm = (1- score_hit_matrix)\n",
    "    \n",
    "    sub_list = [result_record_list[i] for i in indices]\n",
    "    dm = DistanceMatrix([func_leaf(r) for r in sub_list], \n",
    "                        make_dm(np.array([[raw_dm[i, j] for j in indices] for i in indices])))\n",
    "    \n",
    "    # dm = DistanceMatrix([func_leaf(r) for r in sub_list, make_dm(raw_dm[low_bar:high_bar, low_bar:high_bar]))\n",
    "    constructor = DistanceTreeConstructor()\n",
    "    # dm\n",
    "    upgmatree = constructor.upgma(dm)\n",
    "    # print(upgmatree)\n",
    "    from Bio import Phylo\n",
    "    #Phylo.draw_ascii(upgmatree)\n",
    "    \n",
    "    return result_record_list[int(medoid)], upgmatree"
   ]
  },
  {
   "cell_type": "code",
   "execution_count": 140,
   "id": "7f818055-cc79-42c0-8459-8c8b0ef605a1",
   "metadata": {},
   "outputs": [
    {
     "ename": "AttributeError",
     "evalue": "'list' object has no attribute 'shape'",
     "output_type": "error",
     "traceback": [
      "\u001b[0;31m---------------------------------------------------------------------------\u001b[0m",
      "\u001b[0;31mAttributeError\u001b[0m                            Traceback (most recent call last)",
      "\u001b[0;32m/var/folders/tq/f3gy9wqs0sq6nv2l3tdlxcl40000gn/T/ipykernel_64378/4149713148.py\u001b[0m in \u001b[0;36m<module>\u001b[0;34m\u001b[0m\n\u001b[0;32m----> 1\u001b[0;31m \u001b[0mget_tree_from_cluster\u001b[0m\u001b[0;34m(\u001b[0m\u001b[0mz\u001b[0m\u001b[0;34m,\u001b[0m \u001b[0;36m0\u001b[0m\u001b[0;34m)\u001b[0m\u001b[0;34m\u001b[0m\u001b[0;34m\u001b[0m\u001b[0m\n\u001b[0m",
      "\u001b[0;32m/var/folders/tq/f3gy9wqs0sq6nv2l3tdlxcl40000gn/T/ipykernel_64378/4059187441.py\u001b[0m in \u001b[0;36mget_tree_from_cluster\u001b[0;34m(cluster_obj, cluster_id)\u001b[0m\n\u001b[1;32m     11\u001b[0m     \u001b[0msub_list\u001b[0m \u001b[0;34m=\u001b[0m \u001b[0;34m[\u001b[0m\u001b[0mresult_record_list\u001b[0m\u001b[0;34m[\u001b[0m\u001b[0mi\u001b[0m\u001b[0;34m]\u001b[0m \u001b[0;32mfor\u001b[0m \u001b[0mi\u001b[0m \u001b[0;32min\u001b[0m \u001b[0mindices\u001b[0m\u001b[0;34m]\u001b[0m\u001b[0;34m\u001b[0m\u001b[0;34m\u001b[0m\u001b[0m\n\u001b[1;32m     12\u001b[0m     dm = DistanceMatrix([func_leaf(r) for r in sub_list], \n\u001b[0;32m---> 13\u001b[0;31m                         make_dm([[raw_dm[i, j] for j in indices] for i in indices]))\n\u001b[0m\u001b[1;32m     14\u001b[0m \u001b[0;34m\u001b[0m\u001b[0m\n\u001b[1;32m     15\u001b[0m     \u001b[0;31m# dm = DistanceMatrix([func_leaf(r) for r in sub_list, make_dm(raw_dm[low_bar:high_bar, low_bar:high_bar]))\u001b[0m\u001b[0;34m\u001b[0m\u001b[0;34m\u001b[0m\u001b[0;34m\u001b[0m\u001b[0m\n",
      "\u001b[0;32m/var/folders/tq/f3gy9wqs0sq6nv2l3tdlxcl40000gn/T/ipykernel_64378/3854031138.py\u001b[0m in \u001b[0;36mmake_dm\u001b[0;34m(raw_dm)\u001b[0m\n\u001b[1;32m      3\u001b[0m \u001b[0;32mdef\u001b[0m \u001b[0mmake_dm\u001b[0m\u001b[0;34m(\u001b[0m\u001b[0mraw_dm\u001b[0m\u001b[0;34m)\u001b[0m\u001b[0;34m:\u001b[0m\u001b[0;34m\u001b[0m\u001b[0;34m\u001b[0m\u001b[0m\n\u001b[1;32m      4\u001b[0m \u001b[0;34m\u001b[0m\u001b[0m\n\u001b[0;32m----> 5\u001b[0;31m     \u001b[0mm\u001b[0m \u001b[0;34m=\u001b[0m \u001b[0mraw_dm\u001b[0m\u001b[0;34m.\u001b[0m\u001b[0mshape\u001b[0m\u001b[0;34m[\u001b[0m\u001b[0;36m0\u001b[0m\u001b[0;34m]\u001b[0m\u001b[0;34m\u001b[0m\u001b[0;34m\u001b[0m\u001b[0m\n\u001b[0m\u001b[1;32m      6\u001b[0m \u001b[0;34m\u001b[0m\u001b[0m\n\u001b[1;32m      7\u001b[0m     \u001b[0mmat\u001b[0m \u001b[0;34m=\u001b[0m \u001b[0;34m[\u001b[0m\u001b[0;34m]\u001b[0m\u001b[0;34m\u001b[0m\u001b[0;34m\u001b[0m\u001b[0m\n",
      "\u001b[0;31mAttributeError\u001b[0m: 'list' object has no attribute 'shape'"
     ]
    }
   ],
   "source": [
    "get_tree_from_cluster(z, 0)"
   ]
  },
  {
   "cell_type": "code",
   "execution_count": 128,
   "id": "7a8c3d0f-7572-41bd-b2a6-97ae63fe5ece",
   "metadata": {},
   "outputs": [
    {
     "name": "stdout",
     "output_type": "stream",
     "text": [
      "Group Name:  BAA04809.1 collagen [Homo sapiens]\n",
      "Draw Tree:\n",
      "  ____________________________________________ [Callithrix jacchus]\n",
      " |\n",
      " |                                       _____ [Colobus angolensis palliatus]\n",
      " |                    __________________|\n",
      "_|                   |                  |   __ [Trachypithecus francoisi]\n",
      " |                   |                  |__|\n",
      " |                   |                     | __ [Chlorocebus sabaeus]\n",
      " |                   |                     ||\n",
      " |___________________|                      | _ [Papio anubis]\n",
      "                     |                      ||\n",
      "                     |                       |, [Macaca nemestrina]\n",
      "                     |                       ||\n",
      "                     |                        | [Macaca fascicularis]\n",
      "                     |\n",
      "                     |________________________ [Homo sapiens]\n",
      "\n"
     ]
    }
   ],
   "source": [
    "from Bio import Phylo\n",
    "from Bio.Phylo import Consensus\n",
    "\n",
    "# print(result_record_list[0])\n",
    "name, t = get_tree_from_group(0)\n",
    "print(\"Group Name: \", name)\n",
    "print(\"Draw Tree:\")\n",
    "Phylo.draw_ascii(t)"
   ]
  },
  {
   "cell_type": "code",
   "execution_count": 127,
   "id": "87328e32-7f5d-42ee-9fc2-8f94d86e1c27",
   "metadata": {},
   "outputs": [
    {
     "name": "stdout",
     "output_type": "stream",
     "text": [
      "Group Name:  AAA52484.1 factor VIII [Homo sapiens]\n",
      "  _____________________________________________ [Papio anubis]\n",
      " |\n",
      " |                                         ____ [Callithrix jacchus]\n",
      "_|                                        |\n",
      " |                                        |  __ [Chlorocebus sabaeus]\n",
      " |                                        | |\n",
      " |________________________________________| | , [Trachypithecus francoisi]\n",
      "                                          | | |\n",
      "                                          | | , [Macaca fascicularis]\n",
      "                                          | |_|\n",
      "                                          |_| | [Macaca nemestrina]\n",
      "                                            | |\n",
      "                                            | | [Colobus angolensis palliatus]\n",
      "                                            |\n",
      "                                            |__ [Homo sapiens]\n",
      "\n"
     ]
    }
   ],
   "source": [
    "from Bio import Phylo\n",
    "from Bio.Phylo import Consensus\n",
    "\n",
    "# print(result_record_list[0])\n",
    "name, t = get_tree_from_group(1)\n",
    "print(\"Group Name: \", name)\n",
    "Phylo.draw_ascii(t)"
   ]
  },
  {
   "cell_type": "code",
   "execution_count": 209,
   "id": "a9c9a7a7-c723-457b-80e5-57b957f00d77",
   "metadata": {},
   "outputs": [],
   "source": [
    "cluster_trees = [get_tree(i) for i in range(8)]"
   ]
  },
  {
   "cell_type": "code",
   "execution_count": 215,
   "id": "bed58a07-af5a-40d6-90d3-854a0365c012",
   "metadata": {},
   "outputs": [],
   "source": [
    "from Bio.Phylo import Consensus\n",
    "# Bio.Phylo.Consensus\n",
    "consensus_tree = Phylo.Consensus.majority_consensus(cluster_trees)"
   ]
  },
  {
   "cell_type": "code",
   "execution_count": 217,
   "id": "46931d82-8de7-4c3f-9e7c-93086697f8e7",
   "metadata": {},
   "outputs": [
    {
     "name": "stdout",
     "output_type": "stream",
     "text": [
      "  ____________________________ [Callithrix jacchus]\n",
      "_|\n",
      " |                          _______________ [Homo sapiens]\n",
      " |_________________________|\n",
      "                           |       ___ [Colobus angolensis palliatus]\n",
      "                           |______|\n",
      "                                  |       _ [Trachypithecus francoisi]\n",
      "                                  |______|\n",
      "                                         |  _ [Chlorocebus sabaeus]\n",
      "                                         |_|\n",
      "                                           | , [Papio anubis]\n",
      "                                           |_|\n",
      "                                             |, [Macaca nemestrina]\n",
      "                                             ||\n",
      "                                              | [Macaca fascicularis]\n",
      "\n"
     ]
    }
   ],
   "source": [
    "Phylo.draw_ascii(consensus_tree)"
   ]
  },
  {
   "cell_type": "code",
   "execution_count": 116,
   "id": "48b0894b-1cb0-4c47-8700-0af1d8307a1f",
   "metadata": {},
   "outputs": [
    {
     "data": {
      "text/plain": [
       "0.0"
      ]
     },
     "execution_count": 116,
     "metadata": {},
     "output_type": "execute_result"
    }
   ],
   "source": [
    "score_hit_matrix.min()"
   ]
  },
  {
   "cell_type": "code",
   "execution_count": 68,
   "id": "bad426de-d6c0-4857-a1d2-29a228c475a2",
   "metadata": {},
   "outputs": [
    {
     "data": {
      "text/plain": [
       "64"
      ]
     },
     "execution_count": 68,
     "metadata": {},
     "output_type": "execute_result"
    }
   ],
   "source": [
    "len(result_record_list)"
   ]
  },
  {
   "cell_type": "code",
   "execution_count": 58,
   "id": "3df368d6-5c87-45c7-9200-9b4e0222f3ce",
   "metadata": {},
   "outputs": [
    {
     "data": {
      "text/plain": [
       "'monax]'"
      ]
     },
     "execution_count": 58,
     "metadata": {},
     "output_type": "execute_result"
    }
   ],
   "source": [
    "r.description.split()[-1]"
   ]
  },
  {
   "cell_type": "code",
   "execution_count": 60,
   "id": "f0b5caf6-65d6-4e7e-83ef-f959aa4fdd38",
   "metadata": {},
   "outputs": [
    {
     "data": {
      "text/plain": [
       "'[Marmota monax]'"
      ]
     },
     "execution_count": 60,
     "metadata": {},
     "output_type": "execute_result"
    }
   ],
   "source": [
    "import re\n",
    "z = re.search(r\"\\[.*\\]\", r.description)\n",
    "# r.description\n",
    "z.group(0)"
   ]
  },
  {
   "cell_type": "code",
   "execution_count": 42,
   "id": "f064d7a6-af3b-499b-868f-1ec43e54362c",
   "metadata": {},
   "outputs": [
    {
     "data": {
      "text/plain": [
       "['__add__',\n",
       " '__bool__',\n",
       " '__class__',\n",
       " '__contains__',\n",
       " '__delattr__',\n",
       " '__dict__',\n",
       " '__dir__',\n",
       " '__doc__',\n",
       " '__eq__',\n",
       " '__format__',\n",
       " '__ge__',\n",
       " '__getattribute__',\n",
       " '__getitem__',\n",
       " '__gt__',\n",
       " '__hash__',\n",
       " '__init__',\n",
       " '__init_subclass__',\n",
       " '__iter__',\n",
       " '__le__',\n",
       " '__le___',\n",
       " '__len__',\n",
       " '__lt__',\n",
       " '__module__',\n",
       " '__ne__',\n",
       " '__new__',\n",
       " '__radd__',\n",
       " '__reduce__',\n",
       " '__reduce_ex__',\n",
       " '__repr__',\n",
       " '__setattr__',\n",
       " '__sizeof__',\n",
       " '__str__',\n",
       " '__subclasshook__',\n",
       " '__weakref__',\n",
       " '_per_letter_annotations',\n",
       " '_seq',\n",
       " '_set_per_letter_annotations',\n",
       " '_set_seq',\n",
       " 'annotations',\n",
       " 'dbxrefs',\n",
       " 'description',\n",
       " 'features',\n",
       " 'format',\n",
       " 'id',\n",
       " 'letter_annotations',\n",
       " 'lower',\n",
       " 'name',\n",
       " 'reverse_complement',\n",
       " 'seq',\n",
       " 'translate',\n",
       " 'upper']"
      ]
     },
     "execution_count": 42,
     "metadata": {},
     "output_type": "execute_result"
    }
   ],
   "source": [
    "dir(records[0])"
   ]
  },
  {
   "cell_type": "code",
   "execution_count": 46,
   "id": "28fa48c8-e8b3-425d-ad9d-d2226e385aa8",
   "metadata": {},
   "outputs": [
    {
     "data": {
      "text/plain": [
       "'BAA04809.1 collagen [Homo sapiens]'"
      ]
     },
     "execution_count": 46,
     "metadata": {},
     "output_type": "execute_result"
    }
   ],
   "source": [
    "records[0].description"
   ]
  },
  {
   "cell_type": "code",
   "execution_count": null,
   "id": "128ad753-a2c9-4951-b4c3-d6c4c4e2e3de",
   "metadata": {},
   "outputs": [],
   "source": [
    "from Bio.Seq import Seq\n",
    "from Bio import SeqIO\n",
    "from Bio.SeqRecord import SeqRecord\n",
    "\n",
    "record = SeqRecord(\n",
    "    Seq(\"MKQHKAMIVALIVICITAVVAALVTRKDLCEVHIRTGQTEVAVF\"),\n",
    "    id=\"YP_025292.1\",\n",
    "    name=\"HokC\",\n",
    "    description=\"toxic membrane protein, small\",\n",
    ")\n",
    "\n",
    "\n",
    "sequences = []  # add code here\n",
    "\n",
    "for k,v in d.items():\n",
    "    tmp = SeqRecord(\n",
    "        Seq(\"MKQHKAMIVALIVICITAVVAALVTRKDLCEVHIRTGQTEVAVF\"),\n",
    "        id=\"YP_025292.1\",\n",
    "        name=\"HokC\",\n",
    "        description=\"toxic membrane protein, small\",\n",
    "    )\n",
    "    \n",
    "\n",
    "with open(\"example.fasta\", \"w\") as output_handle:\n",
    "    SeqIO.write(sequences, output_handle, \"fasta\")"
   ]
  },
  {
   "cell_type": "code",
   "execution_count": 21,
   "id": "fc0e6768-970c-4422-9b60-e4db8c925d67",
   "metadata": {},
   "outputs": [
    {
     "data": {
      "text/plain": [
       "dict_keys(['dataset/BAA04809.1.txt', 'dataset/AAA52484.1.txt', 'dataset/AAK26441.1.txt', 'dataset/NP_001027466.1.txt', 'dataset/KAI4083901.1.txt', 'dataset/AAB60937.1.txt', 'dataset/AAN17825.1.txt', 'dataset/KAI4030570.1.txt'])"
      ]
     },
     "execution_count": 21,
     "metadata": {},
     "output_type": "execute_result"
    }
   ],
   "source": [
    "d.keys()"
   ]
  },
  {
   "cell_type": "code",
   "execution_count": 23,
   "id": "f9544ff4-637a-4b57-a41f-6ae5c02ea87b",
   "metadata": {},
   "outputs": [
    {
     "data": {
      "text/plain": [
       "{'[Homo sapiens]': <__main__.GeneStruct at 0x7f9d686ebc50>,\n",
       " '[Colobus angolensis palliatus]': <__main__.GeneStruct at 0x7f9d686f2750>,\n",
       " '[Macaca fascicularis]': <__main__.GeneStruct at 0x7f9d686f2190>,\n",
       " '[Papio anubis]': <__main__.GeneStruct at 0x7f9d686f2110>,\n",
       " '[Chlorocebus sabaeus]': <__main__.GeneStruct at 0x7f9d686f2f10>,\n",
       " '[Trachypithecus francoisi]': <__main__.GeneStruct at 0x7f9d686f2490>,\n",
       " '[Macaca nemestrina]': <__main__.GeneStruct at 0x7f9d686f25d0>,\n",
       " '[Callithrix jacchus]': <__main__.GeneStruct at 0x7f9d686f6490>}"
      ]
     },
     "execution_count": 23,
     "metadata": {},
     "output_type": "execute_result"
    }
   ],
   "source": [
    "d['dataset/KAI4030570.1.txt']"
   ]
  },
  {
   "cell_type": "code",
   "execution_count": 24,
   "id": "28a37af3-6a61-42e6-9e66-d42fa2c890a4",
   "metadata": {},
   "outputs": [
    {
     "data": {
      "text/plain": [
       "{'[Homo sapiens]': <__main__.GeneStruct at 0x7f9d5a475690>,\n",
       " '[Macaca fascicularis]': <__main__.GeneStruct at 0x7f9d5a479390>,\n",
       " '[Macaca nemestrina]': <__main__.GeneStruct at 0x7f9d5a479110>,\n",
       " '[Papio anubis]': <__main__.GeneStruct at 0x7f9d5a4791d0>,\n",
       " '[Colobus angolensis palliatus]': <__main__.GeneStruct at 0x7f9d5a479310>,\n",
       " '[Chlorocebus sabaeus]': <__main__.GeneStruct at 0x7f9d5a479410>,\n",
       " '[Trachypithecus francoisi]': <__main__.GeneStruct at 0x7f9d5a479550>,\n",
       " '[Callithrix jacchus]': <__main__.GeneStruct at 0x7f9d5a479950>}"
      ]
     },
     "execution_count": 24,
     "metadata": {},
     "output_type": "execute_result"
    }
   ],
   "source": [
    "d['dataset/AAN17825.1.txt']"
   ]
  },
  {
   "cell_type": "code",
   "execution_count": 12,
   "id": "0d195fae-d057-497c-ae44-33efca9dd9d6",
   "metadata": {},
   "outputs": [
    {
     "name": "stdout",
     "output_type": "stream",
     "text": [
      "dataset/AAA52484.1.txt\n",
      "dataset/BAA04809.1.txt\n",
      "dataset/AAK26441.1.txt\n",
      "dataset/AAB60937.1.txt\n",
      "dataset/AAN17825.1.txt\n",
      "dataset/NP_001027466.1.txt\n",
      "dataset/KAI4083901.1.txt\n",
      "dataset/KAI4030570.1.txt\n"
     ]
    }
   ],
   "source": [
    "for r in readers:\n",
    "    print(r.file_name)\n",
    "    "
   ]
  },
  {
   "cell_type": "code",
   "execution_count": 112,
   "id": "5e27a60a-9ec7-4042-a2e8-af705ffb39bd",
   "metadata": {},
   "outputs": [
    {
     "name": "stdout",
     "output_type": "stream",
     "text": [
      "[Piliocolobus tephrosceles]\n"
     ]
    }
   ],
   "source": [
    "for org in candidate_organisms:\n",
    "    if org not in [ gene_struct.organism for gene_struct in readers[0].gene_list]:\n",
    "        print(org)"
   ]
  },
  {
   "cell_type": "code",
   "execution_count": 51,
   "id": "e39f31b3-13b3-4421-a87c-e28b645723dd",
   "metadata": {},
   "outputs": [
    {
     "data": {
      "text/plain": [
       "[4, 1, 3]"
      ]
     },
     "execution_count": 51,
     "metadata": {},
     "output_type": "execute_result"
    }
   ],
   "source": [
    "z = [4,1,2,3]\n",
    "z.remove(2)\n",
    "z"
   ]
  },
  {
   "cell_type": "code",
   "execution_count": 42,
   "id": "e98a9979-bfd4-4447-af33-80b792cdf73a",
   "metadata": {},
   "outputs": [],
   "source": [
    "organism_set_list = []\n",
    "\n",
    "for r in readers:\n",
    "    s = set()\n",
    "    for gene_struct in r.gene_list:\n",
    "        s.add(gene_struct.organism)\n",
    "        # s.add(gene_struct.organism.split(' ')[0][1:])\n",
    "    organism_set_list.append(s)"
   ]
  },
  {
   "cell_type": "code",
   "execution_count": 44,
   "id": "e28efb58-8084-438a-a3c7-da1295123afe",
   "metadata": {},
   "outputs": [],
   "source": [
    "organism_count_dict = {}\n",
    "for organism_set in organism_set_list[1:]:\n",
    "    for organism in organism_set:\n",
    "        organism_count_dict[organism] = organism_count_dict.get(organism, 0) + 1"
   ]
  },
  {
   "cell_type": "code",
   "execution_count": 45,
   "id": "627b7688-88c1-41a4-ae9b-201f41ed86f8",
   "metadata": {},
   "outputs": [
    {
     "data": {
      "text/plain": [
       "['[Cebus imitator]',\n",
       " '[Cercocebus atys]',\n",
       " '[Aotus nancymaae]',\n",
       " '[Sapajus apella]',\n",
       " '[Callithrix jacchus]']"
      ]
     },
     "execution_count": 45,
     "metadata": {},
     "output_type": "execute_result"
    }
   ],
   "source": [
    "[k for k, v in organism_count_dict.items() if v>=8]"
   ]
  },
  {
   "cell_type": "code",
   "execution_count": null,
   "id": "082c6086-af80-4996-8bf0-ab80f1e95080",
   "metadata": {},
   "outputs": [],
   "source": []
  }
 ],
 "metadata": {
  "kernelspec": {
   "display_name": "Python 3 (ipykernel)",
   "language": "python",
   "name": "python3"
  },
  "language_info": {
   "codemirror_mode": {
    "name": "ipython",
    "version": 3
   },
   "file_extension": ".py",
   "mimetype": "text/x-python",
   "name": "python",
   "nbconvert_exporter": "python",
   "pygments_lexer": "ipython3",
   "version": "3.7.13"
  }
 },
 "nbformat": 4,
 "nbformat_minor": 5
}
